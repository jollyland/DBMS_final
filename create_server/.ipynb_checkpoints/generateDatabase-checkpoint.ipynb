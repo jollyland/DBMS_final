{
 "cells": [
  {
   "cell_type": "code",
   "execution_count": 1,
   "metadata": {},
   "outputs": [],
   "source": [
    "import psycopg2\n",
    "import pandas as pd "
   ]
  },
  {
   "cell_type": "code",
   "execution_count": 2,
   "metadata": {},
   "outputs": [],
   "source": [
    "def ConnectDatabase( database, user, password,ip = \"localhost\", port = 5432):\n",
    "    conn = psycopg2.connect(host=ip ,database=database, user=user, password=str(password),port = port)\n",
    "    conn.autocommit = True\n",
    "    print(\"Connect Success\")\n",
    "    cursor = conn.cursor()\n",
    "    return cursor"
   ]
  },
  {
   "cell_type": "code",
   "execution_count": 3,
   "metadata": {},
   "outputs": [],
   "source": [
    "def Drop(database,table):\n",
    "    database.execute(\"DROP table if exists {} CASCADE;\".format(table))"
   ]
  },
  {
   "cell_type": "code",
   "execution_count": 4,
   "metadata": {},
   "outputs": [],
   "source": [
    "def CreateUniversity(database):\n",
    "    print(\"Create Table university.\")\n",
    "          \n",
    "    query = '''Create Table university(\n",
    "                    id CHAR(3) PRIMARY KEY, \n",
    "                    name VARCHAR NOT NULL,\n",
    "                    position VARCHAR NOT NULL \n",
    "                    );'''\n",
    "\n",
    "    database.execute(query)\n",
    "    "
   ]
  },
  {
   "cell_type": "code",
   "execution_count": 5,
   "metadata": {},
   "outputs": [],
   "source": [
    "def InsertUniversity(database):\n",
    "    print(\"Insert Data into university.\\n\")\n",
    "    \n",
    "    nameID = pd.read_csv(\"../datas/name2ID.csv\")\n",
    "    namePos = pd.read_csv(\"../datas/alluniversity.csv\")\n",
    "    #merge two data\n",
    "    data = list()\n",
    "    for (i,j) in zip(list(nameID['name']),list(nameID['ID'])):\n",
    "        for (name,pos)   in zip(list(namePos['學校名稱']),list(namePos['學校地址'])):\n",
    "            if(i in name):\n",
    "                data.append((j,i,pos))\n",
    "    #create query \n",
    "    query = '''INSERT INTO university \\n Values '''\n",
    "   \n",
    "    for (ID,name,pos) in data:\n",
    "        query+= \"('\"+str(ID).zfill(3) +\"','\"+name +\"','\"+pos+\"')\"+\",\\n\"\n",
    "    query = query[:-2]\n",
    "    query += ';'\n",
    "   \n",
    "    database.execute(query)"
   ]
  },
  {
   "cell_type": "code",
   "execution_count": 6,
   "metadata": {},
   "outputs": [],
   "source": [
    "def CreateAcademy(database):\n",
    "    print(\"Create Table academy.\")\n",
    "    \n",
    "    query = '''Create Table academy(\n",
    "                    name VARCHAR PRIMARY KEY \n",
    "                   \n",
    "                    );'''\n",
    "\n",
    "    database.execute(query)\n",
    "    \n",
    "    "
   ]
  },
  {
   "cell_type": "code",
   "execution_count": 7,
   "metadata": {},
   "outputs": [],
   "source": [
    "def InsertAcademy(database):\n",
    "    print(\"Insert Data into academy.\\n\")\n",
    "    \n",
    "    aca = pd.read_csv(\"../datas/Group.csv\")\n",
    "    query = '''INSERT INTO academy \\n Values '''\n",
    "    \n",
    "    for i in aca['Group']:\n",
    "        query+= \"('\"+i+\"'),\\n\"\n",
    "    query = query[:-2]\n",
    "    \n",
    "    \n",
    "    database.execute(query)"
   ]
  },
  {
   "cell_type": "code",
   "execution_count": 8,
   "metadata": {},
   "outputs": [],
   "source": [
    "def CreateMainDepartment(database):\n",
    "    print(\"Create Table mainDepartment.\")\n",
    "    \n",
    "    query = '''Create Table mainDepartment(\n",
    "                    academy VARCHAR NOT NULL,\n",
    "                    department VARCHAR NOT NULL,\n",
    "                    subject VARCHAR NOT NULL,\n",
    "                    \n",
    "                    FOREIGN KEY (academy) REFERENCES academy(name),\n",
    "                    PRIMARY KEY (academy, department) \n",
    "                   \n",
    "                    );'''\n",
    "\n",
    "    database.execute(query)\n",
    "    "
   ]
  },
  {
   "cell_type": "code",
   "execution_count": 9,
   "metadata": {},
   "outputs": [],
   "source": [
    "def InsertMainDepartment(database):\n",
    "    print(\"Insert Data into mainDepartment.\\n\")\n",
    "    \n",
    "    md =  pd.read_csv(\"../datas/Group_Department_Subject.csv\")\n",
    "    query = '''INSERT INTO MainDepartment \\n Values '''\n",
    "    \n",
    "    for (i,j,k) in zip(md['Group'],md['Department'],md['Subjects']):\n",
    "        query+= \"('\"+i+\"','\"+j+\"','\"+k+\"'),\\n\"\n",
    "    query = query[:-2]\n",
    "    \n",
    "    \n",
    "    database.execute(query)"
   ]
  },
  {
   "cell_type": "code",
   "execution_count": 104,
   "metadata": {},
   "outputs": [],
   "source": [
    "def CreateDepartment(database):\n",
    "    print(\"Create Table department.\")\n",
    " \n",
    "    query = '''Create Table department(\n",
    "                    id VARCHAR NOT NULL,\n",
    "                    name VARCHAR NOT NULL,\n",
    "                    \n",
    "                    university_id CHAR(3) NOT NULL,\n",
    "                    academy VARCHAR NOT NULL,\n",
    "                    \n",
    "                    PRIMARY KEY (id), \n",
    "                    FOREIGN KEY (academy) REFERENCES academy(name),\n",
    "                    FOREIGN KEY (university_id) REFERENCES university(id)\n",
    "                   \n",
    "                    );'''    \n",
    "    database.execute(query)"
   ]
  },
  {
   "cell_type": "code",
   "execution_count": 119,
   "metadata": {},
   "outputs": [],
   "source": [
    "def  InsertDepartment(database):\n",
    "    print(\"Insert Data into department.\\n\")\n",
    "    \n",
    "    df1 = pd.read_csv('../datas/學測output.csv')\n",
    "    df2 = pd.read_csv('../datas/指考.csv')\n",
    "    df3 = pd.read_csv(\"../datas/department2group.csv\")\n",
    "    df4 = pd.read_csv(\"../datas/name2ID.csv\")\n",
    "    \n",
    "    name2ID = dict()\n",
    "    \n",
    "    for i in zip(df4['ID'],df4['name']):\n",
    "        name2ID[i[1]] = str(i[0]).zfill(3)\n",
    "  \n",
    "    department2group = dict()\n",
    "    \n",
    "    for j in df3['University']:\n",
    "        department2group[name2ID[j]] = dict()\n",
    "    \n",
    "    for (i,j,k) in zip( df3['University'],df3['DEPARTMENT'],df3['(code)Group']):\n",
    "         department2group[name2ID[i]][j] = k.split(')')[1][1:-2]\n",
    "        \n",
    "\n",
    "    query = '''INSERT INTO department \\n Values '''\n",
    "    \n",
    "    for i in dep:\n",
    "        for j in dep[i]: \n",
    "            if(department2group.get(i,None)!=None):\n",
    "                flag = 0\n",
    "                for k in department2group[i]:\n",
    "                    if(j in k): \n",
    "                        query+= \"('\"+i+str(dep[i][j]).zfill(3) +\"','\"+j +\"','\"+i+\"','\"+department2group[i][k]+\"')\"+\",\\n\"\n",
    "                        flag =1\n",
    "                        break\n",
    "                if(flag==0):\n",
    "                    query+= \"('\"+i+str(dep[i][j]).zfill(3) +\"','\"+j +\"','\"+i+\"','\"+'unknown'+\"')\"+\",\\n\"\n",
    "            else:\n",
    "                query+= \"('\"+i+str(dep[i][j]).zfill(3) +\"','\"+j +\"','\"+i+\"','\"+'unknown'+\"')\"+\",\\n\"\n",
    "    query = query[:-2]\n",
    "    query += ';'\n",
    "   \n",
    "    database.execute(query)"
   ]
  },
  {
   "cell_type": "code",
   "execution_count": 113,
   "metadata": {},
   "outputs": [],
   "source": [
    "def CreateGSAT(database):\n",
    "    print(\"Create Table GSAT.\")\n",
    " \n",
    "    query = '''Create Table GSAT(\n",
    "                    id VARCHAR NOT NULL,\n",
    "                    quta SMALLINT,\n",
    "                    \n",
    "                    chinese SMALLINT NOT NULL,\n",
    "                    english SMALLINT  NOT NULL,\n",
    "                    math    SMALLINT NOT NULL,\n",
    "                    society SMALLINT  NOT NULL,\n",
    "                    science SMALLINT NOT NULL,\n",
    "                    \n",
    "                    \n",
    "                    FOREIGN KEY (id) REFERENCES department(id),\n",
    "                    PRIMARY KEY (id) \n",
    "                   \n",
    "                    );'''\n",
    "\n",
    "    database.execute(query)\n",
    "    "
   ]
  },
  {
   "cell_type": "code",
   "execution_count": 114,
   "metadata": {},
   "outputs": [],
   "source": [
    "def  InsertGSAT(database):\n",
    "    print(\"Insert Data into GSAT.\\n\")\n",
    "    \n",
    "    table = dict() \n",
    "    for i in zip(range(6),['--','底','後','均','前','頂']):\n",
    "        table[i[1]] = str(i[0])\n",
    "    \n",
    "    df1 = pd.read_csv('../datas/學測output.csv')\n",
    "    \n",
    "    \n",
    "\n",
    "   \n",
    "            \n",
    "    query = '''INSERT INTO GSAT \\n Values '''\n",
    "    \n",
    "    for i in zip(df1['Code'],df1['name'],df1['num'],df1['s_Chinese'],df1['s_English'],df1['s_Math'],df1['s_Society'],df1['s_Science']):               \n",
    "        code = str(i[0]).zfill(6)[:3]\n",
    "      \n",
    "        temp = list()\n",
    "        for index in range(3,8):\n",
    "            temp.append(table[i[index]])\n",
    "        query+= \"('\"+code+str(dep[code][i[1]]).zfill(3) +\"',\"+ str(i[2])+\",\"+ ','.join(temp)+\")\"+\",\\n\"\n",
    "        \n",
    "    query = query[:-2]\n",
    "    query += ';'\n",
    "   \n",
    "    database.execute(query)"
   ]
  },
  {
   "cell_type": "code",
   "execution_count": 125,
   "metadata": {},
   "outputs": [],
   "source": [
    "def CreateAST(database):\n",
    "    print(\"Create Table AST.\")\n",
    "    \n",
    "   \n",
    "    query = '''Create Table AST(\n",
    "                    id VARCHAR NOT NULL,\n",
    "                    quta SMALLINT,\n",
    "                    \n",
    "                    chinese FLOAT NOT NULL,\n",
    "                    english FLOAT NOT NULL,\n",
    "                    math1   FLOAT NOT NULL,\n",
    "                    math2  FLOAT NOT NULL,\n",
    "                    \n",
    "                    physical FLOAT NOT NULL,\n",
    "                    chemistry FLOAT NOT NULL,\n",
    "                    biological FLOAT NOT NULL,\n",
    "                    \n",
    "                    history FLOAT NOT NULL,\n",
    "                    geography FLOAT NOT NULL,\n",
    "                    citizen FLOAT NOT NULL,\n",
    "                    \n",
    "                    \n",
    "                    FOREIGN KEY (id) REFERENCES department(id),\n",
    "                    PRIMARY KEY (id) \n",
    "                   \n",
    "                    );'''\n",
    "\n",
    "    database.execute(query)\n",
    "    "
   ]
  },
  {
   "cell_type": "code",
   "execution_count": null,
   "metadata": {},
   "outputs": [],
   "source": [
    "def  InsertGSAT(database):\n",
    "    print(\"Insert Data into AST.\\n\")\n",
    "    \n",
    "    table = dict() \n",
    "    for i in zip(range(6),['--','底','後','均','前','頂']):\n",
    "        table[i[1]] = str(i[0])\n",
    "    \n",
    "    df1 = pd.read_csv('../datas/學測output.csv')\n",
    "    \n",
    "    \n",
    "\n",
    "   \n",
    "            \n",
    "    query = '''INSERT INTO AST \\n Values '''\n",
    "    \n",
    "    for i in zip(df1['Code'],df1['name'],df1['num'],df1['s_Chinese'],df1['s_English'],df1['s_Math'],df1['s_Society'],df1['s_Science']):               \n",
    "        code = str(i[0]).zfill(6)[:3]\n",
    "      \n",
    "        temp = list()\n",
    "        for index in range(3,8):\n",
    "            temp.append(table[i[index]])\n",
    "        query+= \"('\"+code+str(dep[code][i[1]]).zfill(3) +\"',\"+ str(i[2])+\",\"+ ','.join(temp)+\")\"+\",\\n\"\n",
    "        \n",
    "    query = query[:-2]\n",
    "    query += ';'\n",
    "   \n",
    "    database.execute(query)"
   ]
  },
  {
   "cell_type": "markdown",
   "metadata": {},
   "source": [
    "def CreateCareer(database):\n",
    "    print(\"Create Table career.\")\n",
    "    \n",
    "      query = '''Create Table career(\n",
    "                    id VARCHAR NOT NULL,\n",
    "                    career1 VARCHAR ,\n",
    "                    career2 VARCHAR,\n",
    "                    career2 VARCHAR,\n",
    "                    \n",
    "                    \n",
    "                    FOREIGN KEY (id) REFERENCES depatment(id),\n",
    "                    PRIMARY KEY (id) \n",
    "                   \n",
    "                    );'''\n",
    "\n",
    "    database.execute(query)\n",
    "    "
   ]
  },
  {
   "cell_type": "markdown",
   "metadata": {},
   "source": [
    "def CreateFuture(database):\n",
    "    print(\"Create Table future.\")\n",
    "    query = '''Create Table career(\n",
    "                    id VARCHAR NOT NULL,\n",
    "                    work_ratio TINYINT ,\n",
    "           \n",
    "                    FOREIGN KEY (id) REFERENCES depatment(id),\n",
    "                    PRIMARY KEY (id) \n",
    "                   \n",
    "                    );'''\n",
    "\n",
    "    database.execute(query)\n",
    "    "
   ]
  },
  {
   "cell_type": "code",
   "execution_count": 112,
   "metadata": {},
   "outputs": [],
   "source": [
    "df1 = pd.read_csv('../datas/學測output.csv')\n",
    "df2 = pd.read_csv('../datas/指考.csv')\n",
    "    \n",
    "\n",
    "dep  = dict() \n",
    "\n",
    "for i in df2['代碼']:\n",
    "    dep[str(i).zfill(5)[:3]]=  dict()\n",
    "for i in df1['Code']:\n",
    "    dep[str(i).zfill(6)[:3]]=  dict()\n",
    "\n",
    "for (i,j) in zip(df2['代碼'],df2['學系']):\n",
    "    dep[str(i).zfill(5)[:3]][j] = 0\n",
    "for (i,j) in zip(df1['Code'],df1['name']):\n",
    "    dep[str(i).zfill(6)[:3]][j] =  0\n",
    "\n",
    "for i in dep:\n",
    "    for (k,l) in zip(range(1,len(dep[i])+1),dep[i].keys()):\n",
    "        dep[i][l]=k"
   ]
  },
  {
   "cell_type": "code",
   "execution_count": 124,
   "metadata": {},
   "outputs": [
    {
     "data": {
      "text/plain": [
       "69"
      ]
     },
     "execution_count": 124,
     "metadata": {},
     "output_type": "execute_result"
    }
   ],
   "source": []
  },
  {
   "cell_type": "code",
   "execution_count": null,
   "metadata": {},
   "outputs": [],
   "source": []
  },
  {
   "cell_type": "code",
   "execution_count": null,
   "metadata": {},
   "outputs": [],
   "source": [
    "import pandas as pd\n",
    "df = pd.read_excel(\"../datas/count.xlsx\")\n"
   ]
  },
  {
   "cell_type": "code",
   "execution_count": null,
   "metadata": {},
   "outputs": [],
   "source": [
    "df.dropna()"
   ]
  },
  {
   "cell_type": "code",
   "execution_count": null,
   "metadata": {},
   "outputs": [],
   "source": [
    "df = pd.read_csv(\"../datas/學測output.csv\")"
   ]
  },
  {
   "cell_type": "code",
   "execution_count": null,
   "metadata": {},
   "outputs": [],
   "source": [
    "df"
   ]
  },
  {
   "cell_type": "code",
   "execution_count": 115,
   "metadata": {},
   "outputs": [
    {
     "name": "stdout",
     "output_type": "stream",
     "text": [
      "Connect Success\n"
     ]
    }
   ],
   "source": [
    "db = ConnectDatabase(\"schools\", \"postgres\", 123456, \"localhost\",5433)"
   ]
  },
  {
   "cell_type": "code",
   "execution_count": 116,
   "metadata": {},
   "outputs": [],
   "source": [
    "tables = ['university','academy','mainDepartment','department','GSAT']"
   ]
  },
  {
   "cell_type": "code",
   "execution_count": 122,
   "metadata": {},
   "outputs": [],
   "source": [
    "for i in tables:\n",
    "    Drop(db,i)"
   ]
  },
  {
   "cell_type": "code",
   "execution_count": 123,
   "metadata": {
    "scrolled": false
   },
   "outputs": [
    {
     "name": "stdout",
     "output_type": "stream",
     "text": [
      "Connect Success\n",
      "Create Table university.\n",
      "Insert Data into university.\n",
      "\n",
      "Create Table academy.\n",
      "Insert Data into academy.\n",
      "\n",
      "Create Table mainDepartment.\n",
      "Insert Data into mainDepartment.\n",
      "\n",
      "Create Table department.\n",
      "Insert Data into department.\n",
      "\n",
      "Create Table GSAT.\n",
      "Insert Data into GSAT.\n",
      "\n"
     ]
    }
   ],
   "source": [
    "def run():\n",
    "    database = ConnectDatabase(\"schools\", \"postgres\", 123456, \"localhost\",5433)\n",
    "   \n",
    "    CreateUniversity(database)\n",
    "    InsertUniversity(database)\n",
    "        \n",
    "    CreateAcademy(database)\n",
    "    InsertAcademy(database)\n",
    "    \n",
    "    CreateMainDepartment(database)\n",
    "    InsertMainDepartment(database)\n",
    "    \n",
    "    CreateDepartment(database)\n",
    "    InsertDepartment(database)\n",
    "    \n",
    "    CreateGSAT(db)\n",
    "    InsertGSAT(db)\n",
    "    \n",
    "    CreateAST(database)\n",
    "    \n",
    "run()"
   ]
  },
  {
   "cell_type": "code",
   "execution_count": null,
   "metadata": {},
   "outputs": [],
   "source": []
  }
 ],
 "metadata": {
  "kernelspec": {
   "display_name": "Python 3",
   "language": "python",
   "name": "python3"
  },
  "language_info": {
   "codemirror_mode": {
    "name": "ipython",
    "version": 3
   },
   "file_extension": ".py",
   "mimetype": "text/x-python",
   "name": "python",
   "nbconvert_exporter": "python",
   "pygments_lexer": "ipython3",
   "version": "3.7.4"
  }
 },
 "nbformat": 4,
 "nbformat_minor": 2
}
