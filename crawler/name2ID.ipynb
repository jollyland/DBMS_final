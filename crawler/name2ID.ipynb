{
 "cells": [
  {
   "cell_type": "code",
   "execution_count": 1,
   "metadata": {},
   "outputs": [],
   "source": [
    "import scrapy\n",
    "from scrapy import *\n",
    "from scrapy.crawler import CrawlerProcess\n",
    "import pandas as pd \n",
    "from scrapy.crawler import CrawlerRunner\n",
    "import numpy as np\n",
    "import scrapy.crawler as crawler\n",
    "from twisted.internet import reactor\n",
    "import json\n",
    "from scrapy import Request"
   ]
  },
  {
   "cell_type": "code",
   "execution_count": 2,
   "metadata": {},
   "outputs": [],
   "source": [
    "class test1(scrapy.Spider):\n",
    "    name = 'test1'\n",
    "    header = {'User-Agent':'Mozilla/5.0 (Windows NT 10.0; Win64; x64) AppleWebKit/537.36 (KHTML, like Gecko) Chrome/74.0.3729.108 Safari/537.36'}\n",
    "    \n",
    "    \n",
    "    def start_requests(self):\n",
    "        site = ['https://university-tw.ldkrsi.men/uac/','https://university-tw.ldkrsi.men/caac/']\n",
    "        table= ['ID','name']\n",
    "        with open('name2ID.csv','w') as f:\n",
    "            f.write(','.join(table)+'\\n')\n",
    "       \n",
    "\n",
    "    \n",
    "        for i in site:\n",
    "            print(i)\n",
    "            yield scrapy.Request(url =i)\n",
    " \n",
    "    \n",
    "    def parse(self,response):\n",
    "        name = response.xpath('/html/body/main/div/section/ul[@class=\"flexbox schools\"]/li/a/text()').getall()\n",
    "        ID = response.xpath('/html/body/main/div/section/ul[@class=\"flexbox schools\"]/li/a/@href').getall()\n",
    "        name = list(map(lambda x: x[5:],name))\n",
    "        \n",
    "        print(ID)\n",
    "        print(name)\n",
    "        temp = str()\n",
    "        for (i,j) in zip(ID,name):\n",
    "            temp+=i+','+j +'\\n'\n",
    "        \n",
    "    \n",
    "        with open(\"name2ID.csv\",'a') as f:\n",
    "            f.write(temp)\n",
    "        \n",
    "    #    \n",
    "        #print(ans)"
   ]
  },
  {
   "cell_type": "code",
   "execution_count": 3,
   "metadata": {},
   "outputs": [
    {
     "name": "stderr",
     "output_type": "stream",
     "text": [
      "2020-06-08 14:40:58 [scrapy.utils.log] INFO: Scrapy 2.1.0 started (bot: scrapybot)\n",
      "2020-06-08 14:40:58 [scrapy.utils.log] INFO: Versions: lxml 4.4.1.0, libxml2 2.9.9, cssselect 1.1.0, parsel 1.6.0, w3lib 1.22.0, Twisted 20.3.0, Python 3.7.4 (default, Aug 13 2019, 20:35:49) - [GCC 7.3.0], pyOpenSSL 19.0.0 (OpenSSL 1.1.1d  10 Sep 2019), cryptography 2.7, Platform Linux-5.3.0-53-generic-x86_64-with-debian-buster-sid\n",
      "2020-06-08 14:40:58 [scrapy.utils.log] DEBUG: Using reactor: twisted.internet.epollreactor.EPollReactor\n",
      "2020-06-08 14:40:58 [scrapy.crawler] INFO: Overridden settings:\n",
      "{}\n",
      "2020-06-08 14:40:58 [scrapy.extensions.telnet] INFO: Telnet Password: 7fb8de8cf18e3f96\n",
      "2020-06-08 14:40:58 [scrapy.middleware] INFO: Enabled extensions:\n",
      "['scrapy.extensions.corestats.CoreStats',\n",
      " 'scrapy.extensions.telnet.TelnetConsole',\n",
      " 'scrapy.extensions.memusage.MemoryUsage',\n",
      " 'scrapy.extensions.logstats.LogStats']\n",
      "2020-06-08 14:40:58 [scrapy.middleware] INFO: Enabled downloader middlewares:\n",
      "['scrapy.downloadermiddlewares.httpauth.HttpAuthMiddleware',\n",
      " 'scrapy.downloadermiddlewares.downloadtimeout.DownloadTimeoutMiddleware',\n",
      " 'scrapy.downloadermiddlewares.defaultheaders.DefaultHeadersMiddleware',\n",
      " 'scrapy.downloadermiddlewares.useragent.UserAgentMiddleware',\n",
      " 'scrapy.downloadermiddlewares.retry.RetryMiddleware',\n",
      " 'scrapy.downloadermiddlewares.redirect.MetaRefreshMiddleware',\n",
      " 'scrapy.downloadermiddlewares.httpcompression.HttpCompressionMiddleware',\n",
      " 'scrapy.downloadermiddlewares.redirect.RedirectMiddleware',\n",
      " 'scrapy.downloadermiddlewares.cookies.CookiesMiddleware',\n",
      " 'scrapy.downloadermiddlewares.httpproxy.HttpProxyMiddleware',\n",
      " 'scrapy.downloadermiddlewares.stats.DownloaderStats']\n",
      "2020-06-08 14:40:58 [scrapy.middleware] INFO: Enabled spider middlewares:\n",
      "['scrapy.spidermiddlewares.httperror.HttpErrorMiddleware',\n",
      " 'scrapy.spidermiddlewares.offsite.OffsiteMiddleware',\n",
      " 'scrapy.spidermiddlewares.referer.RefererMiddleware',\n",
      " 'scrapy.spidermiddlewares.urllength.UrlLengthMiddleware',\n",
      " 'scrapy.spidermiddlewares.depth.DepthMiddleware']\n",
      "2020-06-08 14:40:58 [scrapy.middleware] INFO: Enabled item pipelines:\n",
      "[]\n",
      "2020-06-08 14:40:58 [scrapy.core.engine] INFO: Spider opened\n",
      "2020-06-08 14:40:58 [scrapy.extensions.logstats] INFO: Crawled 0 pages (at 0 pages/min), scraped 0 items (at 0 items/min)\n",
      "2020-06-08 14:40:58 [scrapy.extensions.telnet] INFO: Telnet console listening on 127.0.0.1:6023\n"
     ]
    },
    {
     "name": "stdout",
     "output_type": "stream",
     "text": [
      "https://university-tw.ldkrsi.men/uac/\n",
      "https://university-tw.ldkrsi.men/caac/\n"
     ]
    },
    {
     "name": "stderr",
     "output_type": "stream",
     "text": [
      "2020-06-08 14:40:59 [scrapy.core.engine] DEBUG: Crawled (200) <GET https://university-tw.ldkrsi.men/uac/> (referer: None)\n",
      "2020-06-08 14:40:59 [scrapy.core.engine] DEBUG: Crawled (200) <GET https://university-tw.ldkrsi.men/caac/> (referer: None)\n",
      "2020-06-08 14:40:59 [scrapy.core.engine] INFO: Closing spider (finished)\n",
      "2020-06-08 14:40:59 [scrapy.statscollectors] INFO: Dumping Scrapy stats:\n",
      "{'downloader/request_bytes': 457,\n",
      " 'downloader/request_count': 2,\n",
      " 'downloader/request_method_count/GET': 2,\n",
      " 'downloader/response_bytes': 13813,\n",
      " 'downloader/response_count': 2,\n",
      " 'downloader/response_status_count/200': 2,\n",
      " 'elapsed_time_seconds': 1.098061,\n",
      " 'finish_reason': 'finished',\n",
      " 'finish_time': datetime.datetime(2020, 6, 8, 6, 40, 59, 587458),\n",
      " 'log_count/DEBUG': 2,\n",
      " 'log_count/INFO': 10,\n",
      " 'memusage/max': 125140992,\n",
      " 'memusage/startup': 125140992,\n",
      " 'response_received_count': 2,\n",
      " 'scheduler/dequeued': 2,\n",
      " 'scheduler/dequeued/memory': 2,\n",
      " 'scheduler/enqueued': 2,\n",
      " 'scheduler/enqueued/memory': 2,\n",
      " 'start_time': datetime.datetime(2020, 6, 8, 6, 40, 58, 489397)}\n",
      "2020-06-08 14:40:59 [scrapy.core.engine] INFO: Spider closed (finished)\n"
     ]
    },
    {
     "name": "stdout",
     "output_type": "stream",
     "text": [
      "['001', '002', '003', '004', '005', '006', '007', '008', '009', '011', '012', '013', '014', '015', '016', '017', '018', '019', '020', '021', '022', '023', '025', '026', '027', '030', '031', '032', '033', '034', '035', '036', '038', '039', '040', '041', '042', '043', '045', '046', '047', '050', '051', '056', '058', '059', '060', '063', '065', '079', '099', '100', '101', '108', '109', '112', '130', '132', '134', '150', '151', '152', '153']\n",
      "['國立臺灣大學', '國立臺灣師範大學', '國立中興大學', '國立成功大學', '東吳大學', '國立政治大學', '高雄醫學大學', '中原大學', '東海大學', '國立清華大學', '中國醫藥大學', '國立交通大學', '淡江大學', '逢甲大學', '國立中央大學', '中國文化大學', '靜宜大學', '大同大學', '輔仁大學', '國立臺灣海洋大學', '國立高雄師範大學', '國立彰化師範大學', '國立陽明大學', '中山醫學大學', '國立中山大學', '長庚大學', '國立臺中教育大學', '國立臺北教育大學', '國立臺南大學', '國立東華大學', '臺北市立大學', '國立屏東大學', '國立臺東大學', '國立體育大學', '元智大學', '國立中正大學', '大葉大學', '中華大學', '義守大學', '銘傳大學', '世新大學', '實踐大學', '長榮大學', '國立臺灣藝術大學', '國立暨南國際大學', '南華大學', '國立臺灣體育運動大學', '國立臺南藝術大學', '玄奘大學', '真理大學', '國立臺北大學', '國立嘉義大學', '國立高雄大學', '慈濟大學', '臺北醫學大學', '康寧大學', '佛光大學', '稻江科技暨管理學院', '亞洲大學', '國立宜蘭大學', '國立聯合大學', '馬偕醫學院', '國立金門大學']\n",
      "['001', '002', '003', '004', '005', '006', '007', '008', '009', '011', '012', '013', '014', '015', '016', '017', '018', '019', '020', '021', '022', '023', '025', '026', '027', '028', '030', '031', '032', '033', '034', '035', '036', '038', '039', '040', '041', '042', '043', '044', '045', '046', '047', '050', '051', '056', '058', '059', '060', '063', '065', '079', '099', '100', '101', '108', '109', '110', '111', '112', '113', '130', '133', '134', '150', '151', '152', '153', '154']\n",
      "['國立臺灣大學', '國立臺灣師範大學', '國立中興大學', '國立成功大學', '東吳大學', '國立政治大學', '高雄醫學大學', '中原大學', '東海大學', '國立清華大學', '中國醫藥大學', '國立交通大學', '淡江大學', '逢甲大學', '國立中央大學', '中國文化大學', '靜宜大學', '大同大學', '輔仁大學', '國立臺灣海洋大學', '國立高雄師範大學', '國立彰化師範大學', '國立陽明大學', '中山醫學大學', '國立中山大學', '國立臺北藝術大學', '長庚大學', '國立臺中教育大學', '國立臺北教育大學', '國立臺南大學', '國立東華大學', '臺北市立大學', '國立屏東大學', '國立臺東大學', '國立體育大學', '元智大學', '國立中正大學', '大葉大學', '中華大學', '華梵大學', '義守大學', '銘傳大學', '世新大學', '實踐大學', '長榮大學', '國立臺灣藝術大學', '國立暨南國際大學', '南華大學', '國立臺灣體育運動大學', '國立臺南藝術大學', '玄奘大學', '真理大學', '國立臺北大學', '國立嘉義大學', '國立高雄大學', '慈濟大學', '臺北醫學大學', '開南大學', '台灣首府大學', '康寧大學', '中信金融管理學院', '佛光大學', '明道大學', '亞洲大學', '國立宜蘭大學', '國立聯合大學', '馬偕醫學院', '國立金門大學', '臺北基督學院']\n"
     ]
    }
   ],
   "source": [
    "process = CrawlerProcess()\n",
    "process.crawl(test1)\n",
    "process.start()"
   ]
  },
  {
   "cell_type": "code",
   "execution_count": 4,
   "metadata": {},
   "outputs": [],
   "source": [
    "df = pd.read_csv('name2ID.csv')"
   ]
  },
  {
   "cell_type": "code",
   "execution_count": 8,
   "metadata": {},
   "outputs": [],
   "source": [
    "k=set()\n",
    "for i in zip(df['ID'],df['name']):\n",
    "    k.add(i)"
   ]
  },
  {
   "cell_type": "code",
   "execution_count": 12,
   "metadata": {},
   "outputs": [
    {
     "data": {
      "text/plain": [
       "{(1, '國立臺灣大學'),\n",
       " (2, '國立臺灣師範大學'),\n",
       " (3, '國立中興大學'),\n",
       " (4, '國立成功大學'),\n",
       " (5, '東吳大學'),\n",
       " (6, '國立政治大學'),\n",
       " (7, '高雄醫學大學'),\n",
       " (8, '中原大學'),\n",
       " (9, '東海大學'),\n",
       " (11, '國立清華大學'),\n",
       " (12, '中國醫藥大學'),\n",
       " (13, '國立交通大學'),\n",
       " (14, '淡江大學'),\n",
       " (15, '逢甲大學'),\n",
       " (16, '國立中央大學'),\n",
       " (17, '中國文化大學'),\n",
       " (18, '靜宜大學'),\n",
       " (19, '大同大學'),\n",
       " (20, '輔仁大學'),\n",
       " (21, '國立臺灣海洋大學'),\n",
       " (22, '國立高雄師範大學'),\n",
       " (23, '國立彰化師範大學'),\n",
       " (25, '國立陽明大學'),\n",
       " (26, '中山醫學大學'),\n",
       " (27, '國立中山大學'),\n",
       " (28, '國立臺北藝術大學'),\n",
       " (30, '長庚大學'),\n",
       " (31, '國立臺中教育大學'),\n",
       " (32, '國立臺北教育大學'),\n",
       " (33, '國立臺南大學'),\n",
       " (34, '國立東華大學'),\n",
       " (35, '臺北市立大學'),\n",
       " (36, '國立屏東大學'),\n",
       " (38, '國立臺東大學'),\n",
       " (39, '國立體育大學'),\n",
       " (40, '元智大學'),\n",
       " (41, '國立中正大學'),\n",
       " (42, '大葉大學'),\n",
       " (43, '中華大學'),\n",
       " (44, '華梵大學'),\n",
       " (45, '義守大學'),\n",
       " (46, '銘傳大學'),\n",
       " (47, '世新大學'),\n",
       " (50, '實踐大學'),\n",
       " (51, '長榮大學'),\n",
       " (56, '國立臺灣藝術大學'),\n",
       " (58, '國立暨南國際大學'),\n",
       " (59, '南華大學'),\n",
       " (60, '國立臺灣體育運動大學'),\n",
       " (63, '國立臺南藝術大學'),\n",
       " (65, '玄奘大學'),\n",
       " (79, '真理大學'),\n",
       " (99, '國立臺北大學'),\n",
       " (100, '國立嘉義大學'),\n",
       " (101, '國立高雄大學'),\n",
       " (108, '慈濟大學'),\n",
       " (109, '臺北醫學大學'),\n",
       " (110, '開南大學'),\n",
       " (111, '台灣首府大學'),\n",
       " (112, '康寧大學'),\n",
       " (113, '中信金融管理學院'),\n",
       " (130, '佛光大學'),\n",
       " (132, '稻江科技暨管理學院'),\n",
       " (133, '明道大學'),\n",
       " (134, '亞洲大學'),\n",
       " (150, '國立宜蘭大學'),\n",
       " (151, '國立聯合大學'),\n",
       " (152, '馬偕醫學院'),\n",
       " (153, '國立金門大學'),\n",
       " (154, '臺北基督學院')}"
      ]
     },
     "execution_count": 12,
     "metadata": {},
     "output_type": "execute_result"
    }
   ],
   "source": [
    "\n",
    "k"
   ]
  },
  {
   "cell_type": "code",
   "execution_count": 15,
   "metadata": {},
   "outputs": [],
   "source": [
    "temp = str()\n",
    "temp+='ID,name\\n'\n",
    "for i in k :\n",
    "    temp+=str(i[0])+','+i[1]+'\\n'"
   ]
  },
  {
   "cell_type": "code",
   "execution_count": 16,
   "metadata": {},
   "outputs": [
    {
     "data": {
      "text/plain": [
       "'ID,name\\n32,國立臺北教育大學\\n22,國立高雄師範大學\\n150,國立宜蘭大學\\n16,國立中央大學\\n33,國立臺南大學\\n41,國立中正大學\\n50,實踐大學\\n15,逢甲大學\\n23,國立彰化師範大學\\n35,臺北市立大學\\n65,玄奘大學\\n45,義守大學\\n2,國立臺灣師範大學\\n47,世新大學\\n153,國立金門大學\\n63,國立臺南藝術大學\\n7,高雄醫學大學\\n40,元智大學\\n5,東吳大學\\n6,國立政治大學\\n34,國立東華大學\\n152,馬偕醫學院\\n25,國立陽明大學\\n108,慈濟大學\\n20,輔仁大學\\n132,稻江科技暨管理學院\\n113,中信金融管理學院\\n58,國立暨南國際大學\\n100,國立嘉義大學\\n133,明道大學\\n134,亞洲大學\\n9,東海大學\\n3,國立中興大學\\n27,國立中山大學\\n1,國立臺灣大學\\n26,中山醫學大學\\n31,國立臺中教育大學\\n38,國立臺東大學\\n42,大葉大學\\n101,國立高雄大學\\n59,南華大學\\n112,康寧大學\\n8,中原大學\\n56,國立臺灣藝術大學\\n60,國立臺灣體育運動大學\\n11,國立清華大學\\n14,淡江大學\\n151,國立聯合大學\\n28,國立臺北藝術大學\\n18,靜宜大學\\n19,大同大學\\n79,真理大學\\n46,銘傳大學\\n36,國立屏東大學\\n39,國立體育大學\\n21,國立臺灣海洋大學\\n154,臺北基督學院\\n17,中國文化大學\\n43,中華大學\\n4,國立成功大學\\n44,華梵大學\\n12,中國醫藥大學\\n130,佛光大學\\n99,國立臺北大學\\n13,國立交通大學\\n110,開南大學\\n30,長庚大學\\n109,臺北醫學大學\\n111,台灣首府大學\\n51,長榮大學\\n'"
      ]
     },
     "execution_count": 16,
     "metadata": {},
     "output_type": "execute_result"
    }
   ],
   "source": [
    "temp"
   ]
  },
  {
   "cell_type": "code",
   "execution_count": 17,
   "metadata": {},
   "outputs": [],
   "source": [
    "with open('name2ID.csv','w') as f :\n",
    "    f.write(temp)"
   ]
  },
  {
   "cell_type": "code",
   "execution_count": null,
   "metadata": {},
   "outputs": [],
   "source": []
  }
 ],
 "metadata": {
  "kernelspec": {
   "display_name": "Python 3",
   "language": "python",
   "name": "python3"
  },
  "language_info": {
   "codemirror_mode": {
    "name": "ipython",
    "version": 3
   },
   "file_extension": ".py",
   "mimetype": "text/x-python",
   "name": "python",
   "nbconvert_exporter": "python",
   "pygments_lexer": "ipython3",
   "version": "3.7.4"
  }
 },
 "nbformat": 4,
 "nbformat_minor": 2
}
