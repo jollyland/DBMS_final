{
 "cells": [
  {
   "cell_type": "code",
   "execution_count": 1,
   "metadata": {},
   "outputs": [],
   "source": [
    "import scrapy\n",
    "from scrapy import *\n",
    "from scrapy.crawler import CrawlerProcess\n",
    "import pandas as pd \n",
    "from scrapy.crawler import CrawlerRunner\n",
    "import numpy as np\n",
    "import scrapy.crawler as crawler\n",
    "from twisted.internet import reactor\n",
    "import json\n",
    "from scrapy import Request"
   ]
  },
  {
   "cell_type": "code",
   "execution_count": 2,
   "metadata": {},
   "outputs": [],
   "source": [
    "class test1(scrapy.Spider):\n",
    "    name = 'test1'\n",
    "    header = {'User-Agent':'Mozilla/5.0 (Windows NT 10.0; Win64; x64) AppleWebKit/537.36 (KHTML, like Gecko) Chrome/74.0.3729.108 Safari/537.36'}\n",
    "    \n",
    "    \n",
    "    def start_requests(self):\n",
    "        site = ['https://university-tw.ldkrsi.men/uac/','https://university-tw.ldkrsi.men/caac/']\n",
    "        table= ['ID','name']\n",
    "        with open('name2ID.csv','w') as f:\n",
    "            f.write(','.join(table)+'\\n')\n",
    "       \n",
    "\n",
    "    \n",
    "        for i in site:\n",
    "            print(i)\n",
    "            yield scrapy.Request(url =i)\n",
    "   \n",
    "    \n",
    "    def parse(self,response):\n",
    "        name = response.xpath('/html/body/main/div/section[2]/ul[@class=\"flexbox schools\"]/li/a/text()').getall()\n",
    "        ID = response.xpath('/html/body/main/div/section[2]/ul[@class=\"flexbox schools\"]/li/a/@href').getall()\n",
    "        name = list(map(lambda x: x[5:],name))\n",
    "        \n",
    "        print(ID)\n",
    "        print(name)\n",
    "        temp = str()\n",
    "        for (i,j) in zip(ID,name):\n",
    "            temp+=i+','+j +'\\n'\n",
    "        \n",
    "    \n",
    "        with open(\"name2ID.csv\",'a') as f:\n",
    "            f.write(temp)\n",
    "        \n",
    "    #    \n",
    "        #print(ans)"
   ]
  },
  {
   "cell_type": "code",
   "execution_count": 3,
   "metadata": {},
   "outputs": [
    {
     "name": "stderr",
     "output_type": "stream",
     "text": [
      "2020-06-06 21:30:30 [scrapy.utils.log] INFO: Scrapy 2.1.0 started (bot: scrapybot)\n",
      "2020-06-06 21:30:30 [scrapy.utils.log] INFO: Versions: lxml 4.4.1.0, libxml2 2.9.9, cssselect 1.1.0, parsel 1.6.0, w3lib 1.22.0, Twisted 20.3.0, Python 3.7.4 (default, Aug 13 2019, 20:35:49) - [GCC 7.3.0], pyOpenSSL 19.0.0 (OpenSSL 1.1.1d  10 Sep 2019), cryptography 2.7, Platform Linux-5.3.0-53-generic-x86_64-with-debian-buster-sid\n",
      "2020-06-06 21:30:30 [scrapy.utils.log] DEBUG: Using reactor: twisted.internet.epollreactor.EPollReactor\n",
      "2020-06-06 21:30:30 [scrapy.crawler] INFO: Overridden settings:\n",
      "{}\n",
      "2020-06-06 21:30:30 [scrapy.extensions.telnet] INFO: Telnet Password: bdc0bff3b8c3ee9b\n",
      "2020-06-06 21:30:30 [scrapy.middleware] INFO: Enabled extensions:\n",
      "['scrapy.extensions.corestats.CoreStats',\n",
      " 'scrapy.extensions.telnet.TelnetConsole',\n",
      " 'scrapy.extensions.memusage.MemoryUsage',\n",
      " 'scrapy.extensions.logstats.LogStats']\n",
      "2020-06-06 21:30:30 [scrapy.middleware] INFO: Enabled downloader middlewares:\n",
      "['scrapy.downloadermiddlewares.httpauth.HttpAuthMiddleware',\n",
      " 'scrapy.downloadermiddlewares.downloadtimeout.DownloadTimeoutMiddleware',\n",
      " 'scrapy.downloadermiddlewares.defaultheaders.DefaultHeadersMiddleware',\n",
      " 'scrapy.downloadermiddlewares.useragent.UserAgentMiddleware',\n",
      " 'scrapy.downloadermiddlewares.retry.RetryMiddleware',\n",
      " 'scrapy.downloadermiddlewares.redirect.MetaRefreshMiddleware',\n",
      " 'scrapy.downloadermiddlewares.httpcompression.HttpCompressionMiddleware',\n",
      " 'scrapy.downloadermiddlewares.redirect.RedirectMiddleware',\n",
      " 'scrapy.downloadermiddlewares.cookies.CookiesMiddleware',\n",
      " 'scrapy.downloadermiddlewares.httpproxy.HttpProxyMiddleware',\n",
      " 'scrapy.downloadermiddlewares.stats.DownloaderStats']\n",
      "2020-06-06 21:30:30 [scrapy.middleware] INFO: Enabled spider middlewares:\n",
      "['scrapy.spidermiddlewares.httperror.HttpErrorMiddleware',\n",
      " 'scrapy.spidermiddlewares.offsite.OffsiteMiddleware',\n",
      " 'scrapy.spidermiddlewares.referer.RefererMiddleware',\n",
      " 'scrapy.spidermiddlewares.urllength.UrlLengthMiddleware',\n",
      " 'scrapy.spidermiddlewares.depth.DepthMiddleware']\n",
      "2020-06-06 21:30:30 [scrapy.middleware] INFO: Enabled item pipelines:\n",
      "[]\n",
      "2020-06-06 21:30:30 [scrapy.core.engine] INFO: Spider opened\n",
      "2020-06-06 21:30:30 [scrapy.extensions.logstats] INFO: Crawled 0 pages (at 0 pages/min), scraped 0 items (at 0 items/min)\n",
      "2020-06-06 21:30:30 [scrapy.extensions.telnet] INFO: Telnet console listening on 127.0.0.1:6023\n"
     ]
    },
    {
     "name": "stdout",
     "output_type": "stream",
     "text": [
      "https://university-tw.ldkrsi.men/uac/\n"
     ]
    },
    {
     "name": "stderr",
     "output_type": "stream",
     "text": [
      "2020-06-06 21:30:31 [scrapy.core.engine] DEBUG: Crawled (200) <GET https://university-tw.ldkrsi.men/uac/> (referer: None)\n",
      "2020-06-06 21:30:31 [scrapy.core.engine] INFO: Closing spider (finished)\n",
      "2020-06-06 21:30:31 [scrapy.statscollectors] INFO: Dumping Scrapy stats:\n",
      "{'downloader/request_bytes': 228,\n",
      " 'downloader/request_count': 1,\n",
      " 'downloader/request_method_count/GET': 1,\n",
      " 'downloader/response_bytes': 6739,\n",
      " 'downloader/response_count': 1,\n",
      " 'downloader/response_status_count/200': 1,\n",
      " 'elapsed_time_seconds': 0.988635,\n",
      " 'finish_reason': 'finished',\n",
      " 'finish_time': datetime.datetime(2020, 6, 6, 13, 30, 31, 835375),\n",
      " 'log_count/DEBUG': 1,\n",
      " 'log_count/INFO': 10,\n",
      " 'memusage/max': 124600320,\n",
      " 'memusage/startup': 124600320,\n",
      " 'response_received_count': 1,\n",
      " 'scheduler/dequeued': 1,\n",
      " 'scheduler/dequeued/memory': 1,\n",
      " 'scheduler/enqueued': 1,\n",
      " 'scheduler/enqueued/memory': 1,\n",
      " 'start_time': datetime.datetime(2020, 6, 6, 13, 30, 30, 846740)}\n",
      "2020-06-06 21:30:31 [scrapy.core.engine] INFO: Spider closed (finished)\n"
     ]
    },
    {
     "name": "stdout",
     "output_type": "stream",
     "text": [
      "['001', '002', '003', '004', '005', '006', '007', '008', '009', '011', '012', '013', '014', '015', '016', '017', '018', '019', '020', '021', '022', '023', '025', '026', '027', '030', '031', '032', '033', '034', '035', '036', '038', '039', '040', '041', '042', '043', '045', '046', '047', '050', '051', '056', '058', '059', '060', '063', '065', '079', '099', '100', '101', '108', '109', '112', '130', '132', '134', '150', '151', '152', '153']\n",
      "['國立臺灣大學', '國立臺灣師範大學', '國立中興大學', '國立成功大學', '東吳大學', '國立政治大學', '高雄醫學大學', '中原大學', '東海大學', '國立清華大學', '中國醫藥大學', '國立交通大學', '淡江大學', '逢甲大學', '國立中央大學', '中國文化大學', '靜宜大學', '大同大學', '輔仁大學', '國立臺灣海洋大學', '國立高雄師範大學', '國立彰化師範大學', '國立陽明大學', '中山醫學大學', '國立中山大學', '長庚大學', '國立臺中教育大學', '國立臺北教育大學', '國立臺南大學', '國立東華大學', '臺北市立大學', '國立屏東大學', '國立臺東大學', '國立體育大學', '元智大學', '國立中正大學', '大葉大學', '中華大學', '義守大學', '銘傳大學', '世新大學', '實踐大學', '長榮大學', '國立臺灣藝術大學', '國立暨南國際大學', '南華大學', '國立臺灣體育運動大學', '國立臺南藝術大學', '玄奘大學', '真理大學', '國立臺北大學', '國立嘉義大學', '國立高雄大學', '慈濟大學', '臺北醫學大學', '康寧大學', '佛光大學', '稻江科技暨管理學院', '亞洲大學', '國立宜蘭大學', '國立聯合大學', '馬偕醫學院', '國立金門大學']\n"
     ]
    }
   ],
   "source": [
    "process = CrawlerProcess()\n",
    "process.crawl(test1)\n",
    "process.start()"
   ]
  },
  {
   "cell_type": "code",
   "execution_count": 6,
   "metadata": {},
   "outputs": [],
   "source": [
    "df = pd.read_csv('name2ID.csv')"
   ]
  },
  {
   "cell_type": "code",
   "execution_count": 7,
   "metadata": {},
   "outputs": [
    {
     "data": {
      "text/html": [
       "<div>\n",
       "<style scoped>\n",
       "    .dataframe tbody tr th:only-of-type {\n",
       "        vertical-align: middle;\n",
       "    }\n",
       "\n",
       "    .dataframe tbody tr th {\n",
       "        vertical-align: top;\n",
       "    }\n",
       "\n",
       "    .dataframe thead th {\n",
       "        text-align: right;\n",
       "    }\n",
       "</style>\n",
       "<table border=\"1\" class=\"dataframe\">\n",
       "  <thead>\n",
       "    <tr style=\"text-align: right;\">\n",
       "      <th></th>\n",
       "      <th>ID</th>\n",
       "      <th>name</th>\n",
       "    </tr>\n",
       "  </thead>\n",
       "  <tbody>\n",
       "    <tr>\n",
       "      <td>0</td>\n",
       "      <td>1</td>\n",
       "      <td>國立臺灣大學</td>\n",
       "    </tr>\n",
       "    <tr>\n",
       "      <td>1</td>\n",
       "      <td>2</td>\n",
       "      <td>國立臺灣師範大學</td>\n",
       "    </tr>\n",
       "    <tr>\n",
       "      <td>2</td>\n",
       "      <td>3</td>\n",
       "      <td>國立中興大學</td>\n",
       "    </tr>\n",
       "    <tr>\n",
       "      <td>3</td>\n",
       "      <td>4</td>\n",
       "      <td>國立成功大學</td>\n",
       "    </tr>\n",
       "    <tr>\n",
       "      <td>4</td>\n",
       "      <td>5</td>\n",
       "      <td>東吳大學</td>\n",
       "    </tr>\n",
       "    <tr>\n",
       "      <td>...</td>\n",
       "      <td>...</td>\n",
       "      <td>...</td>\n",
       "    </tr>\n",
       "    <tr>\n",
       "      <td>58</td>\n",
       "      <td>134</td>\n",
       "      <td>亞洲大學</td>\n",
       "    </tr>\n",
       "    <tr>\n",
       "      <td>59</td>\n",
       "      <td>150</td>\n",
       "      <td>國立宜蘭大學</td>\n",
       "    </tr>\n",
       "    <tr>\n",
       "      <td>60</td>\n",
       "      <td>151</td>\n",
       "      <td>國立聯合大學</td>\n",
       "    </tr>\n",
       "    <tr>\n",
       "      <td>61</td>\n",
       "      <td>152</td>\n",
       "      <td>馬偕醫學院</td>\n",
       "    </tr>\n",
       "    <tr>\n",
       "      <td>62</td>\n",
       "      <td>153</td>\n",
       "      <td>國立金門大學</td>\n",
       "    </tr>\n",
       "  </tbody>\n",
       "</table>\n",
       "<p>63 rows × 2 columns</p>\n",
       "</div>"
      ],
      "text/plain": [
       "     ID      name\n",
       "0     1    國立臺灣大學\n",
       "1     2  國立臺灣師範大學\n",
       "2     3    國立中興大學\n",
       "3     4    國立成功大學\n",
       "4     5      東吳大學\n",
       "..  ...       ...\n",
       "58  134      亞洲大學\n",
       "59  150    國立宜蘭大學\n",
       "60  151    國立聯合大學\n",
       "61  152     馬偕醫學院\n",
       "62  153    國立金門大學\n",
       "\n",
       "[63 rows x 2 columns]"
      ]
     },
     "execution_count": 7,
     "metadata": {},
     "output_type": "execute_result"
    }
   ],
   "source": [
    "df "
   ]
  },
  {
   "cell_type": "code",
   "execution_count": null,
   "metadata": {},
   "outputs": [],
   "source": []
  }
 ],
 "metadata": {
  "kernelspec": {
   "display_name": "Python 3",
   "language": "python",
   "name": "python3"
  },
  "language_info": {
   "codemirror_mode": {
    "name": "ipython",
    "version": 3
   },
   "file_extension": ".py",
   "mimetype": "text/x-python",
   "name": "python",
   "nbconvert_exporter": "python",
   "pygments_lexer": "ipython3",
   "version": "3.7.4"
  }
 },
 "nbformat": 4,
 "nbformat_minor": 2
}
