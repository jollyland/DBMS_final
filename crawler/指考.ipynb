{
 "cells": [
  {
   "cell_type": "code",
   "execution_count": 1,
   "metadata": {},
   "outputs": [],
   "source": [
    "import scrapy\n",
    "from scrapy import *\n",
    "from scrapy.crawler import CrawlerProcess\n",
    "import pandas as pd \n",
    "from scrapy.crawler import CrawlerRunner\n",
    "import numpy as np\n",
    "import scrapy.crawler as crawler\n",
    "from twisted.internet import reactor\n",
    "import json\n",
    "from scrapy import Request"
   ]
  },
  {
   "cell_type": "code",
   "execution_count": 2,
   "metadata": {},
   "outputs": [],
   "source": [
    "class test1(scrapy.Spider):\n",
    "    name = 'test1'\n",
    "    header = {'User-Agent':'Mozilla/5.0 (Windows NT 10.0; Win64; x64) AppleWebKit/537.36 (KHTML, like Gecko) Chrome/74.0.3729.108 Safari/537.36'}\n",
    "    \n",
    "    \n",
    "    def start_requests(self):\n",
    "        site = list()\n",
    "        table= ['代碼','學系','國','英','數甲','數乙','物','化','生','歷','地','公']\n",
    "        with open('指考.csv','w') as f:\n",
    "            f.write(','.join(table)+'\\n')\n",
    "       \n",
    "        for i in range(1,154):\n",
    "            site.append(\"https://university-tw.ldkrsi.men/uac/\"+str(i).zfill(3))\n",
    "        \n",
    "        \n",
    "    \n",
    "        for i in site:\n",
    "            print(i)\n",
    "            yield scrapy.Request(url =i)\n",
    "   \n",
    "    \n",
    "    def parse(self,response):\n",
    "        name = response.xpath('/html/body/main/div[1]/section/div/table/tbody/tr/td/a/text()').getall()\n",
    "        ans = response.xpath('/html/body/main/div[1]/section/div/table/tbody/tr/td/text()').getall()\n",
    "#        pos= response.xpath('//*[@id=\"grid\"]/tbody/tr/td[not(contains(text(),\"\\r\\n\")orcontains(text(),\"公立\")orcontains(text(),\"一般大學\"))]/text()').getall()\n",
    "        #or(contains(text(),\"技專校院\"))or(contains(text(),\"私立\")]/text()\n",
    "        #title = response.xpath('/html/body/main/div/section/ul/li/a/text()').getall()\n",
    "        #ids  = response.xpath('/html/body/main/div/section/ul/li/a[not(contains(@href,\"special\"))]/@href').getall()\n",
    "      \n",
    "        temp = str()\n",
    "       \n",
    "        for j in range(len(name)):\n",
    "           \n",
    "            temp += name[j]+','\n",
    "            \n",
    "        \n",
    "            for i in range(12):\n",
    "                if(i==0 ):\n",
    "                    temp+=ans[j*12+i]+','\n",
    "                elif(i==11):\n",
    "                    temp+=ans[j*12+i]\n",
    "                elif(i==1):\n",
    "                    continue\n",
    "                elif(i>1):\n",
    "                    temp+=ans[j*12+i]+','\n",
    "                \n",
    "            temp+='\\n'\n",
    "            \n",
    "        with open(\"指考.csv\",'a') as f:\n",
    "            f.write(temp)\n",
    "        \n",
    "    #    \n",
    "        #print(ans)"
   ]
  },
  {
   "cell_type": "code",
   "execution_count": 3,
   "metadata": {},
   "outputs": [
    {
     "name": "stderr",
     "output_type": "stream",
     "text": [
      "2020-06-04 17:14:00 [scrapy.utils.log] INFO: Scrapy 2.1.0 started (bot: scrapybot)\n",
      "2020-06-04 17:14:00 [scrapy.utils.log] INFO: Versions: lxml 4.4.1.0, libxml2 2.9.9, cssselect 1.1.0, parsel 1.6.0, w3lib 1.22.0, Twisted 20.3.0, Python 3.7.4 (default, Aug 13 2019, 20:35:49) - [GCC 7.3.0], pyOpenSSL 19.0.0 (OpenSSL 1.1.1d  10 Sep 2019), cryptography 2.7, Platform Linux-5.3.0-53-generic-x86_64-with-debian-buster-sid\n",
      "2020-06-04 17:14:00 [scrapy.utils.log] DEBUG: Using reactor: twisted.internet.epollreactor.EPollReactor\n",
      "2020-06-04 17:14:00 [scrapy.crawler] INFO: Overridden settings:\n",
      "{}\n",
      "2020-06-04 17:14:00 [scrapy.extensions.telnet] INFO: Telnet Password: ec1168f015bec0b5\n",
      "2020-06-04 17:14:00 [scrapy.middleware] INFO: Enabled extensions:\n",
      "['scrapy.extensions.corestats.CoreStats',\n",
      " 'scrapy.extensions.telnet.TelnetConsole',\n",
      " 'scrapy.extensions.memusage.MemoryUsage',\n",
      " 'scrapy.extensions.logstats.LogStats']\n",
      "2020-06-04 17:14:00 [scrapy.middleware] INFO: Enabled downloader middlewares:\n",
      "['scrapy.downloadermiddlewares.httpauth.HttpAuthMiddleware',\n",
      " 'scrapy.downloadermiddlewares.downloadtimeout.DownloadTimeoutMiddleware',\n",
      " 'scrapy.downloadermiddlewares.defaultheaders.DefaultHeadersMiddleware',\n",
      " 'scrapy.downloadermiddlewares.useragent.UserAgentMiddleware',\n",
      " 'scrapy.downloadermiddlewares.retry.RetryMiddleware',\n",
      " 'scrapy.downloadermiddlewares.redirect.MetaRefreshMiddleware',\n",
      " 'scrapy.downloadermiddlewares.httpcompression.HttpCompressionMiddleware',\n",
      " 'scrapy.downloadermiddlewares.redirect.RedirectMiddleware',\n",
      " 'scrapy.downloadermiddlewares.cookies.CookiesMiddleware',\n",
      " 'scrapy.downloadermiddlewares.httpproxy.HttpProxyMiddleware',\n",
      " 'scrapy.downloadermiddlewares.stats.DownloaderStats']\n",
      "2020-06-04 17:14:00 [scrapy.middleware] INFO: Enabled spider middlewares:\n",
      "['scrapy.spidermiddlewares.httperror.HttpErrorMiddleware',\n",
      " 'scrapy.spidermiddlewares.offsite.OffsiteMiddleware',\n",
      " 'scrapy.spidermiddlewares.referer.RefererMiddleware',\n",
      " 'scrapy.spidermiddlewares.urllength.UrlLengthMiddleware',\n",
      " 'scrapy.spidermiddlewares.depth.DepthMiddleware']\n",
      "2020-06-04 17:14:00 [scrapy.middleware] INFO: Enabled item pipelines:\n",
      "[]\n",
      "2020-06-04 17:14:00 [scrapy.core.engine] INFO: Spider opened\n",
      "2020-06-04 17:14:00 [scrapy.extensions.logstats] INFO: Crawled 0 pages (at 0 pages/min), scraped 0 items (at 0 items/min)\n",
      "2020-06-04 17:14:00 [scrapy.extensions.telnet] INFO: Telnet console listening on 127.0.0.1:6023\n"
     ]
    },
    {
     "name": "stdout",
     "output_type": "stream",
     "text": [
      "https://university-tw.ldkrsi.men/uac/001\n",
      "https://university-tw.ldkrsi.men/uac/002\n",
      "https://university-tw.ldkrsi.men/uac/003\n",
      "https://university-tw.ldkrsi.men/uac/004\n",
      "https://university-tw.ldkrsi.men/uac/005\n",
      "https://university-tw.ldkrsi.men/uac/006\n",
      "https://university-tw.ldkrsi.men/uac/007\n",
      "https://university-tw.ldkrsi.men/uac/008\n",
      "https://university-tw.ldkrsi.men/uac/009\n",
      "https://university-tw.ldkrsi.men/uac/010\n",
      "https://university-tw.ldkrsi.men/uac/011\n",
      "https://university-tw.ldkrsi.men/uac/012\n",
      "https://university-tw.ldkrsi.men/uac/013\n",
      "https://university-tw.ldkrsi.men/uac/014\n",
      "https://university-tw.ldkrsi.men/uac/015\n",
      "https://university-tw.ldkrsi.men/uac/016\n"
     ]
    },
    {
     "name": "stderr",
     "output_type": "stream",
     "text": [
      "2020-06-04 17:14:00 [scrapy.core.engine] DEBUG: Crawled (200) <GET https://university-tw.ldkrsi.men/uac/005> (referer: None)\n",
      "2020-06-04 17:14:00 [scrapy.core.engine] DEBUG: Crawled (200) <GET https://university-tw.ldkrsi.men/uac/003> (referer: None)\n",
      "2020-06-04 17:14:00 [scrapy.core.engine] DEBUG: Crawled (200) <GET https://university-tw.ldkrsi.men/uac/004> (referer: None)\n",
      "2020-06-04 17:14:00 [scrapy.core.engine] DEBUG: Crawled (200) <GET https://university-tw.ldkrsi.men/uac/007> (referer: None)\n",
      "2020-06-04 17:14:00 [scrapy.core.engine] DEBUG: Crawled (200) <GET https://university-tw.ldkrsi.men/uac/002> (referer: None)\n",
      "2020-06-04 17:14:00 [scrapy.core.engine] DEBUG: Crawled (200) <GET https://university-tw.ldkrsi.men/uac/006> (referer: None)\n",
      "2020-06-04 17:14:00 [scrapy.core.engine] DEBUG: Crawled (200) <GET https://university-tw.ldkrsi.men/uac/008> (referer: None)\n",
      "2020-06-04 17:14:00 [scrapy.core.engine] DEBUG: Crawled (200) <GET https://university-tw.ldkrsi.men/uac/001> (referer: None)\n"
     ]
    },
    {
     "name": "stdout",
     "output_type": "stream",
     "text": [
      "https://university-tw.ldkrsi.men/uac/017\n",
      "https://university-tw.ldkrsi.men/uac/018\n",
      "https://university-tw.ldkrsi.men/uac/019\n",
      "https://university-tw.ldkrsi.men/uac/020\n",
      "https://university-tw.ldkrsi.men/uac/021\n",
      "https://university-tw.ldkrsi.men/uac/022\n",
      "https://university-tw.ldkrsi.men/uac/023\n",
      "https://university-tw.ldkrsi.men/uac/024\n"
     ]
    },
    {
     "name": "stderr",
     "output_type": "stream",
     "text": [
      "2020-06-04 17:14:00 [scrapy.downloadermiddlewares.redirect] DEBUG: Redirecting (301) to <GET https://university-tw.ldkrsi.men/uac/> from <GET https://university-tw.ldkrsi.men/uac/010>\n",
      "2020-06-04 17:14:01 [scrapy.core.engine] DEBUG: Crawled (200) <GET https://university-tw.ldkrsi.men/uac/011> (referer: None)\n",
      "2020-06-04 17:14:01 [scrapy.core.engine] DEBUG: Crawled (200) <GET https://university-tw.ldkrsi.men/uac/012> (referer: None)\n",
      "2020-06-04 17:14:01 [scrapy.core.engine] DEBUG: Crawled (200) <GET https://university-tw.ldkrsi.men/uac/013> (referer: None)\n",
      "2020-06-04 17:14:01 [scrapy.core.engine] DEBUG: Crawled (200) <GET https://university-tw.ldkrsi.men/uac/009> (referer: None)\n",
      "2020-06-04 17:14:01 [scrapy.core.engine] DEBUG: Crawled (200) <GET https://university-tw.ldkrsi.men/uac/016> (referer: None)\n",
      "2020-06-04 17:14:01 [scrapy.core.engine] DEBUG: Crawled (200) <GET https://university-tw.ldkrsi.men/uac/014> (referer: None)\n"
     ]
    },
    {
     "name": "stdout",
     "output_type": "stream",
     "text": [
      "https://university-tw.ldkrsi.men/uac/025\n",
      "https://university-tw.ldkrsi.men/uac/026\n",
      "https://university-tw.ldkrsi.men/uac/027\n",
      "https://university-tw.ldkrsi.men/uac/028\n",
      "https://university-tw.ldkrsi.men/uac/029\n",
      "https://university-tw.ldkrsi.men/uac/030\n"
     ]
    },
    {
     "name": "stderr",
     "output_type": "stream",
     "text": [
      "2020-06-04 17:14:01 [scrapy.core.engine] DEBUG: Crawled (200) <GET https://university-tw.ldkrsi.men/uac/015> (referer: None)\n",
      "2020-06-04 17:14:01 [scrapy.core.engine] DEBUG: Crawled (200) <GET https://university-tw.ldkrsi.men/uac/017> (referer: None)\n",
      "2020-06-04 17:14:01 [scrapy.core.engine] DEBUG: Crawled (200) <GET https://university-tw.ldkrsi.men/uac/019> (referer: None)\n",
      "2020-06-04 17:14:01 [scrapy.core.engine] DEBUG: Crawled (200) <GET https://university-tw.ldkrsi.men/uac/022> (referer: None)\n",
      "2020-06-04 17:14:01 [scrapy.core.engine] DEBUG: Crawled (200) <GET https://university-tw.ldkrsi.men/uac/018> (referer: None)\n",
      "2020-06-04 17:14:01 [scrapy.core.engine] DEBUG: Crawled (200) <GET https://university-tw.ldkrsi.men/uac/021> (referer: None)\n",
      "2020-06-04 17:14:01 [scrapy.core.engine] DEBUG: Crawled (200) <GET https://university-tw.ldkrsi.men/uac/020> (referer: None)\n"
     ]
    },
    {
     "name": "stdout",
     "output_type": "stream",
     "text": [
      "https://university-tw.ldkrsi.men/uac/031\n",
      "https://university-tw.ldkrsi.men/uac/032\n",
      "https://university-tw.ldkrsi.men/uac/033\n",
      "https://university-tw.ldkrsi.men/uac/034\n",
      "https://university-tw.ldkrsi.men/uac/035\n",
      "https://university-tw.ldkrsi.men/uac/036\n",
      "https://university-tw.ldkrsi.men/uac/037\n"
     ]
    },
    {
     "name": "stderr",
     "output_type": "stream",
     "text": [
      "2020-06-04 17:14:01 [scrapy.core.engine] DEBUG: Crawled (200) <GET https://university-tw.ldkrsi.men/uac/023> (referer: None)\n",
      "2020-06-04 17:14:01 [scrapy.core.engine] DEBUG: Crawled (200) <GET https://university-tw.ldkrsi.men/uac/> (referer: None)\n",
      "2020-06-04 17:14:01 [scrapy.downloadermiddlewares.redirect] DEBUG: Redirecting (301) to <GET https://university-tw.ldkrsi.men/uac/> from <GET https://university-tw.ldkrsi.men/uac/024>\n",
      "2020-06-04 17:14:01 [scrapy.dupefilters] DEBUG: Filtered duplicate request: <GET https://university-tw.ldkrsi.men/uac/> - no more duplicates will be shown (see DUPEFILTER_DEBUG to show all duplicates)\n",
      "2020-06-04 17:14:01 [scrapy.core.engine] DEBUG: Crawled (200) <GET https://university-tw.ldkrsi.men/uac/025> (referer: None)\n"
     ]
    },
    {
     "name": "stdout",
     "output_type": "stream",
     "text": [
      "https://university-tw.ldkrsi.men/uac/038\n",
      "https://university-tw.ldkrsi.men/uac/039\n",
      "https://university-tw.ldkrsi.men/uac/040\n",
      "https://university-tw.ldkrsi.men/uac/041\n"
     ]
    },
    {
     "name": "stderr",
     "output_type": "stream",
     "text": [
      "2020-06-04 17:14:01 [scrapy.downloadermiddlewares.redirect] DEBUG: Redirecting (301) to <GET https://university-tw.ldkrsi.men/uac/> from <GET https://university-tw.ldkrsi.men/uac/028>\n",
      "2020-06-04 17:14:01 [scrapy.core.engine] DEBUG: Crawled (200) <GET https://university-tw.ldkrsi.men/uac/026> (referer: None)\n",
      "2020-06-04 17:14:01 [scrapy.downloadermiddlewares.redirect] DEBUG: Redirecting (301) to <GET https://university-tw.ldkrsi.men/uac/> from <GET https://university-tw.ldkrsi.men/uac/029>\n",
      "2020-06-04 17:14:01 [scrapy.core.engine] DEBUG: Crawled (200) <GET https://university-tw.ldkrsi.men/uac/027> (referer: None)\n",
      "2020-06-04 17:14:01 [scrapy.core.engine] DEBUG: Crawled (200) <GET https://university-tw.ldkrsi.men/uac/030> (referer: None)\n",
      "2020-06-04 17:14:01 [scrapy.core.engine] DEBUG: Crawled (200) <GET https://university-tw.ldkrsi.men/uac/031> (referer: None)\n"
     ]
    },
    {
     "name": "stdout",
     "output_type": "stream",
     "text": [
      "https://university-tw.ldkrsi.men/uac/042\n",
      "https://university-tw.ldkrsi.men/uac/043\n",
      "https://university-tw.ldkrsi.men/uac/044\n",
      "https://university-tw.ldkrsi.men/uac/045\n",
      "https://university-tw.ldkrsi.men/uac/046\n",
      "https://university-tw.ldkrsi.men/uac/047\n"
     ]
    },
    {
     "name": "stderr",
     "output_type": "stream",
     "text": [
      "2020-06-04 17:14:02 [scrapy.core.engine] DEBUG: Crawled (200) <GET https://university-tw.ldkrsi.men/uac/034> (referer: None)\n",
      "2020-06-04 17:14:02 [scrapy.core.engine] DEBUG: Crawled (200) <GET https://university-tw.ldkrsi.men/uac/033> (referer: None)\n",
      "2020-06-04 17:14:02 [scrapy.core.engine] DEBUG: Crawled (200) <GET https://university-tw.ldkrsi.men/uac/035> (referer: None)\n",
      "2020-06-04 17:14:02 [scrapy.core.engine] DEBUG: Crawled (200) <GET https://university-tw.ldkrsi.men/uac/032> (referer: None)\n",
      "2020-06-04 17:14:02 [scrapy.downloadermiddlewares.redirect] DEBUG: Redirecting (301) to <GET https://university-tw.ldkrsi.men/uac/> from <GET https://university-tw.ldkrsi.men/uac/037>\n",
      "2020-06-04 17:14:02 [scrapy.core.engine] DEBUG: Crawled (200) <GET https://university-tw.ldkrsi.men/uac/038> (referer: None)\n",
      "2020-06-04 17:14:02 [scrapy.core.engine] DEBUG: Crawled (200) <GET https://university-tw.ldkrsi.men/uac/036> (referer: None)\n",
      "2020-06-04 17:14:02 [scrapy.core.engine] DEBUG: Crawled (200) <GET https://university-tw.ldkrsi.men/uac/039> (referer: None)\n"
     ]
    },
    {
     "name": "stdout",
     "output_type": "stream",
     "text": [
      "https://university-tw.ldkrsi.men/uac/048\n",
      "https://university-tw.ldkrsi.men/uac/049\n",
      "https://university-tw.ldkrsi.men/uac/050\n",
      "https://university-tw.ldkrsi.men/uac/051\n",
      "https://university-tw.ldkrsi.men/uac/052\n",
      "https://university-tw.ldkrsi.men/uac/053\n",
      "https://university-tw.ldkrsi.men/uac/054\n"
     ]
    },
    {
     "name": "stderr",
     "output_type": "stream",
     "text": [
      "2020-06-04 17:14:02 [scrapy.core.engine] DEBUG: Crawled (200) <GET https://university-tw.ldkrsi.men/uac/040> (referer: None)\n",
      "2020-06-04 17:14:02 [scrapy.core.engine] DEBUG: Crawled (200) <GET https://university-tw.ldkrsi.men/uac/041> (referer: None)\n",
      "2020-06-04 17:14:02 [scrapy.downloadermiddlewares.redirect] DEBUG: Redirecting (301) to <GET https://university-tw.ldkrsi.men/uac/> from <GET https://university-tw.ldkrsi.men/uac/044>\n",
      "2020-06-04 17:14:02 [scrapy.core.engine] DEBUG: Crawled (200) <GET https://university-tw.ldkrsi.men/uac/042> (referer: None)\n"
     ]
    },
    {
     "name": "stdout",
     "output_type": "stream",
     "text": [
      "https://university-tw.ldkrsi.men/uac/055\n",
      "https://university-tw.ldkrsi.men/uac/056\n",
      "https://university-tw.ldkrsi.men/uac/057\n",
      "https://university-tw.ldkrsi.men/uac/058\n",
      "https://university-tw.ldkrsi.men/uac/059\n"
     ]
    },
    {
     "name": "stderr",
     "output_type": "stream",
     "text": [
      "2020-06-04 17:14:02 [scrapy.core.engine] DEBUG: Crawled (200) <GET https://university-tw.ldkrsi.men/uac/043> (referer: None)\n",
      "2020-06-04 17:14:02 [scrapy.core.engine] DEBUG: Crawled (200) <GET https://university-tw.ldkrsi.men/uac/045> (referer: None)\n",
      "2020-06-04 17:14:02 [scrapy.core.engine] DEBUG: Crawled (200) <GET https://university-tw.ldkrsi.men/uac/047> (referer: None)\n",
      "2020-06-04 17:14:02 [scrapy.core.engine] DEBUG: Crawled (200) <GET https://university-tw.ldkrsi.men/uac/046> (referer: None)\n",
      "2020-06-04 17:14:02 [scrapy.downloadermiddlewares.redirect] DEBUG: Redirecting (301) to <GET https://university-tw.ldkrsi.men/uac/> from <GET https://university-tw.ldkrsi.men/uac/048>\n",
      "2020-06-04 17:14:02 [scrapy.downloadermiddlewares.redirect] DEBUG: Redirecting (301) to <GET https://university-tw.ldkrsi.men/uac/> from <GET https://university-tw.ldkrsi.men/uac/049>\n"
     ]
    },
    {
     "name": "stdout",
     "output_type": "stream",
     "text": [
      "https://university-tw.ldkrsi.men/uac/060\n",
      "https://university-tw.ldkrsi.men/uac/061\n",
      "https://university-tw.ldkrsi.men/uac/062\n",
      "https://university-tw.ldkrsi.men/uac/063\n",
      "https://university-tw.ldkrsi.men/uac/064\n",
      "https://university-tw.ldkrsi.men/uac/065\n"
     ]
    },
    {
     "name": "stderr",
     "output_type": "stream",
     "text": [
      "2020-06-04 17:14:02 [scrapy.downloadermiddlewares.redirect] DEBUG: Redirecting (301) to <GET https://university-tw.ldkrsi.men/uac/> from <GET https://university-tw.ldkrsi.men/uac/052>\n",
      "2020-06-04 17:14:02 [scrapy.core.engine] DEBUG: Crawled (200) <GET https://university-tw.ldkrsi.men/uac/051> (referer: None)\n",
      "2020-06-04 17:14:02 [scrapy.core.engine] DEBUG: Crawled (200) <GET https://university-tw.ldkrsi.men/uac/050> (referer: None)\n",
      "2020-06-04 17:14:02 [scrapy.downloadermiddlewares.redirect] DEBUG: Redirecting (301) to <GET https://university-tw.ldkrsi.men/uac/> from <GET https://university-tw.ldkrsi.men/uac/053>\n"
     ]
    },
    {
     "name": "stdout",
     "output_type": "stream",
     "text": [
      "https://university-tw.ldkrsi.men/uac/066\n",
      "https://university-tw.ldkrsi.men/uac/067\n",
      "https://university-tw.ldkrsi.men/uac/068\n",
      "https://university-tw.ldkrsi.men/uac/069\n"
     ]
    },
    {
     "name": "stderr",
     "output_type": "stream",
     "text": [
      "2020-06-04 17:14:03 [scrapy.downloadermiddlewares.redirect] DEBUG: Redirecting (301) to <GET https://university-tw.ldkrsi.men/uac/> from <GET https://university-tw.ldkrsi.men/uac/055>\n",
      "2020-06-04 17:14:03 [scrapy.downloadermiddlewares.redirect] DEBUG: Redirecting (301) to <GET https://university-tw.ldkrsi.men/uac/> from <GET https://university-tw.ldkrsi.men/uac/057>\n",
      "2020-06-04 17:14:03 [scrapy.downloadermiddlewares.redirect] DEBUG: Redirecting (301) to <GET https://university-tw.ldkrsi.men/uac/> from <GET https://university-tw.ldkrsi.men/uac/054>\n",
      "2020-06-04 17:14:03 [scrapy.core.engine] DEBUG: Crawled (200) <GET https://university-tw.ldkrsi.men/uac/056> (referer: None)\n",
      "2020-06-04 17:14:03 [scrapy.core.engine] DEBUG: Crawled (200) <GET https://university-tw.ldkrsi.men/uac/058> (referer: None)\n",
      "2020-06-04 17:14:03 [scrapy.core.engine] DEBUG: Crawled (200) <GET https://university-tw.ldkrsi.men/uac/059> (referer: None)\n",
      "2020-06-04 17:14:03 [scrapy.downloadermiddlewares.redirect] DEBUG: Redirecting (301) to <GET https://university-tw.ldkrsi.men/uac/> from <GET https://university-tw.ldkrsi.men/uac/061>\n",
      "2020-06-04 17:14:03 [scrapy.core.engine] DEBUG: Crawled (200) <GET https://university-tw.ldkrsi.men/uac/060> (referer: None)\n"
     ]
    },
    {
     "name": "stdout",
     "output_type": "stream",
     "text": [
      "https://university-tw.ldkrsi.men/uac/070\n",
      "https://university-tw.ldkrsi.men/uac/071\n",
      "https://university-tw.ldkrsi.men/uac/072\n",
      "https://university-tw.ldkrsi.men/uac/073\n",
      "https://university-tw.ldkrsi.men/uac/074\n",
      "https://university-tw.ldkrsi.men/uac/075\n",
      "https://university-tw.ldkrsi.men/uac/076\n",
      "https://university-tw.ldkrsi.men/uac/077\n"
     ]
    },
    {
     "name": "stderr",
     "output_type": "stream",
     "text": [
      "2020-06-04 17:14:03 [scrapy.downloadermiddlewares.redirect] DEBUG: Redirecting (301) to <GET https://university-tw.ldkrsi.men/uac/> from <GET https://university-tw.ldkrsi.men/uac/064>\n",
      "2020-06-04 17:14:03 [scrapy.downloadermiddlewares.redirect] DEBUG: Redirecting (301) to <GET https://university-tw.ldkrsi.men/uac/> from <GET https://university-tw.ldkrsi.men/uac/066>\n",
      "2020-06-04 17:14:03 [scrapy.downloadermiddlewares.redirect] DEBUG: Redirecting (301) to <GET https://university-tw.ldkrsi.men/uac/> from <GET https://university-tw.ldkrsi.men/uac/062>\n",
      "2020-06-04 17:14:03 [scrapy.core.engine] DEBUG: Crawled (200) <GET https://university-tw.ldkrsi.men/uac/065> (referer: None)\n",
      "2020-06-04 17:14:03 [scrapy.core.engine] DEBUG: Crawled (200) <GET https://university-tw.ldkrsi.men/uac/063> (referer: None)\n",
      "2020-06-04 17:14:03 [scrapy.downloadermiddlewares.redirect] DEBUG: Redirecting (301) to <GET https://university-tw.ldkrsi.men/uac/> from <GET https://university-tw.ldkrsi.men/uac/068>\n",
      "2020-06-04 17:14:03 [scrapy.downloadermiddlewares.redirect] DEBUG: Redirecting (301) to <GET https://university-tw.ldkrsi.men/uac/> from <GET https://university-tw.ldkrsi.men/uac/067>\n",
      "2020-06-04 17:14:03 [scrapy.downloadermiddlewares.redirect] DEBUG: Redirecting (301) to <GET https://university-tw.ldkrsi.men/uac/> from <GET https://university-tw.ldkrsi.men/uac/069>\n"
     ]
    },
    {
     "name": "stdout",
     "output_type": "stream",
     "text": [
      "https://university-tw.ldkrsi.men/uac/078\n",
      "https://university-tw.ldkrsi.men/uac/079\n",
      "https://university-tw.ldkrsi.men/uac/080\n",
      "https://university-tw.ldkrsi.men/uac/081\n",
      "https://university-tw.ldkrsi.men/uac/082\n",
      "https://university-tw.ldkrsi.men/uac/083\n",
      "https://university-tw.ldkrsi.men/uac/084\n",
      "https://university-tw.ldkrsi.men/uac/085\n"
     ]
    },
    {
     "name": "stderr",
     "output_type": "stream",
     "text": [
      "2020-06-04 17:14:03 [scrapy.downloadermiddlewares.redirect] DEBUG: Redirecting (301) to <GET https://university-tw.ldkrsi.men/uac/> from <GET https://university-tw.ldkrsi.men/uac/070>\n",
      "2020-06-04 17:14:03 [scrapy.downloadermiddlewares.redirect] DEBUG: Redirecting (301) to <GET https://university-tw.ldkrsi.men/uac/> from <GET https://university-tw.ldkrsi.men/uac/071>\n",
      "2020-06-04 17:14:03 [scrapy.downloadermiddlewares.redirect] DEBUG: Redirecting (301) to <GET https://university-tw.ldkrsi.men/uac/> from <GET https://university-tw.ldkrsi.men/uac/073>\n",
      "2020-06-04 17:14:03 [scrapy.downloadermiddlewares.redirect] DEBUG: Redirecting (301) to <GET https://university-tw.ldkrsi.men/uac/> from <GET https://university-tw.ldkrsi.men/uac/072>\n",
      "2020-06-04 17:14:03 [scrapy.downloadermiddlewares.redirect] DEBUG: Redirecting (301) to <GET https://university-tw.ldkrsi.men/uac/> from <GET https://university-tw.ldkrsi.men/uac/074>\n",
      "2020-06-04 17:14:03 [scrapy.downloadermiddlewares.redirect] DEBUG: Redirecting (301) to <GET https://university-tw.ldkrsi.men/uac/> from <GET https://university-tw.ldkrsi.men/uac/075>\n",
      "2020-06-04 17:14:03 [scrapy.downloadermiddlewares.redirect] DEBUG: Redirecting (301) to <GET https://university-tw.ldkrsi.men/uac/> from <GET https://university-tw.ldkrsi.men/uac/077>\n"
     ]
    },
    {
     "name": "stdout",
     "output_type": "stream",
     "text": [
      "https://university-tw.ldkrsi.men/uac/086\n",
      "https://university-tw.ldkrsi.men/uac/087\n",
      "https://university-tw.ldkrsi.men/uac/088\n",
      "https://university-tw.ldkrsi.men/uac/089\n",
      "https://university-tw.ldkrsi.men/uac/090\n",
      "https://university-tw.ldkrsi.men/uac/091\n",
      "https://university-tw.ldkrsi.men/uac/092\n"
     ]
    },
    {
     "name": "stderr",
     "output_type": "stream",
     "text": [
      "2020-06-04 17:14:03 [scrapy.downloadermiddlewares.redirect] DEBUG: Redirecting (301) to <GET https://university-tw.ldkrsi.men/uac/> from <GET https://university-tw.ldkrsi.men/uac/078>\n",
      "2020-06-04 17:14:03 [scrapy.downloadermiddlewares.redirect] DEBUG: Redirecting (301) to <GET https://university-tw.ldkrsi.men/uac/> from <GET https://university-tw.ldkrsi.men/uac/076>\n",
      "2020-06-04 17:14:03 [scrapy.downloadermiddlewares.redirect] DEBUG: Redirecting (301) to <GET https://university-tw.ldkrsi.men/uac/> from <GET https://university-tw.ldkrsi.men/uac/080>\n",
      "2020-06-04 17:14:03 [scrapy.downloadermiddlewares.redirect] DEBUG: Redirecting (301) to <GET https://university-tw.ldkrsi.men/uac/> from <GET https://university-tw.ldkrsi.men/uac/082>\n",
      "2020-06-04 17:14:03 [scrapy.core.engine] DEBUG: Crawled (200) <GET https://university-tw.ldkrsi.men/uac/079> (referer: None)\n",
      "2020-06-04 17:14:03 [scrapy.downloadermiddlewares.redirect] DEBUG: Redirecting (301) to <GET https://university-tw.ldkrsi.men/uac/> from <GET https://university-tw.ldkrsi.men/uac/081>\n",
      "2020-06-04 17:14:03 [scrapy.downloadermiddlewares.redirect] DEBUG: Redirecting (301) to <GET https://university-tw.ldkrsi.men/uac/> from <GET https://university-tw.ldkrsi.men/uac/083>\n",
      "2020-06-04 17:14:03 [scrapy.downloadermiddlewares.redirect] DEBUG: Redirecting (301) to <GET https://university-tw.ldkrsi.men/uac/> from <GET https://university-tw.ldkrsi.men/uac/084>\n"
     ]
    },
    {
     "name": "stdout",
     "output_type": "stream",
     "text": [
      "https://university-tw.ldkrsi.men/uac/093\n",
      "https://university-tw.ldkrsi.men/uac/094\n",
      "https://university-tw.ldkrsi.men/uac/095\n",
      "https://university-tw.ldkrsi.men/uac/096\n",
      "https://university-tw.ldkrsi.men/uac/097\n",
      "https://university-tw.ldkrsi.men/uac/098\n",
      "https://university-tw.ldkrsi.men/uac/099\n",
      "https://university-tw.ldkrsi.men/uac/100\n"
     ]
    },
    {
     "name": "stderr",
     "output_type": "stream",
     "text": [
      "2020-06-04 17:14:04 [scrapy.downloadermiddlewares.redirect] DEBUG: Redirecting (301) to <GET https://university-tw.ldkrsi.men/uac/> from <GET https://university-tw.ldkrsi.men/uac/085>\n",
      "2020-06-04 17:14:04 [scrapy.downloadermiddlewares.redirect] DEBUG: Redirecting (301) to <GET https://university-tw.ldkrsi.men/uac/> from <GET https://university-tw.ldkrsi.men/uac/086>\n",
      "2020-06-04 17:14:04 [scrapy.downloadermiddlewares.redirect] DEBUG: Redirecting (301) to <GET https://university-tw.ldkrsi.men/uac/> from <GET https://university-tw.ldkrsi.men/uac/087>\n",
      "2020-06-04 17:14:04 [scrapy.downloadermiddlewares.redirect] DEBUG: Redirecting (301) to <GET https://university-tw.ldkrsi.men/uac/> from <GET https://university-tw.ldkrsi.men/uac/088>\n",
      "2020-06-04 17:14:04 [scrapy.downloadermiddlewares.redirect] DEBUG: Redirecting (301) to <GET https://university-tw.ldkrsi.men/uac/> from <GET https://university-tw.ldkrsi.men/uac/089>\n",
      "2020-06-04 17:14:04 [scrapy.downloadermiddlewares.redirect] DEBUG: Redirecting (301) to <GET https://university-tw.ldkrsi.men/uac/> from <GET https://university-tw.ldkrsi.men/uac/090>\n",
      "2020-06-04 17:14:04 [scrapy.downloadermiddlewares.redirect] DEBUG: Redirecting (301) to <GET https://university-tw.ldkrsi.men/uac/> from <GET https://university-tw.ldkrsi.men/uac/091>\n"
     ]
    },
    {
     "name": "stdout",
     "output_type": "stream",
     "text": [
      "https://university-tw.ldkrsi.men/uac/101\n",
      "https://university-tw.ldkrsi.men/uac/102\n",
      "https://university-tw.ldkrsi.men/uac/103\n",
      "https://university-tw.ldkrsi.men/uac/104\n",
      "https://university-tw.ldkrsi.men/uac/105\n",
      "https://university-tw.ldkrsi.men/uac/106\n",
      "https://university-tw.ldkrsi.men/uac/107\n"
     ]
    },
    {
     "name": "stderr",
     "output_type": "stream",
     "text": [
      "2020-06-04 17:14:04 [scrapy.downloadermiddlewares.redirect] DEBUG: Redirecting (301) to <GET https://university-tw.ldkrsi.men/uac/> from <GET https://university-tw.ldkrsi.men/uac/092>\n",
      "2020-06-04 17:14:04 [scrapy.downloadermiddlewares.redirect] DEBUG: Redirecting (301) to <GET https://university-tw.ldkrsi.men/uac/> from <GET https://university-tw.ldkrsi.men/uac/093>\n",
      "2020-06-04 17:14:04 [scrapy.downloadermiddlewares.redirect] DEBUG: Redirecting (301) to <GET https://university-tw.ldkrsi.men/uac/> from <GET https://university-tw.ldkrsi.men/uac/094>\n",
      "2020-06-04 17:14:04 [scrapy.downloadermiddlewares.redirect] DEBUG: Redirecting (301) to <GET https://university-tw.ldkrsi.men/uac/> from <GET https://university-tw.ldkrsi.men/uac/095>\n",
      "2020-06-04 17:14:04 [scrapy.downloadermiddlewares.redirect] DEBUG: Redirecting (301) to <GET https://university-tw.ldkrsi.men/uac/> from <GET https://university-tw.ldkrsi.men/uac/096>\n",
      "2020-06-04 17:14:04 [scrapy.downloadermiddlewares.redirect] DEBUG: Redirecting (301) to <GET https://university-tw.ldkrsi.men/uac/> from <GET https://university-tw.ldkrsi.men/uac/097>\n",
      "2020-06-04 17:14:04 [scrapy.downloadermiddlewares.redirect] DEBUG: Redirecting (301) to <GET https://university-tw.ldkrsi.men/uac/> from <GET https://university-tw.ldkrsi.men/uac/098>\n"
     ]
    },
    {
     "name": "stdout",
     "output_type": "stream",
     "text": [
      "https://university-tw.ldkrsi.men/uac/108\n",
      "https://university-tw.ldkrsi.men/uac/109\n",
      "https://university-tw.ldkrsi.men/uac/110\n",
      "https://university-tw.ldkrsi.men/uac/111\n",
      "https://university-tw.ldkrsi.men/uac/112\n",
      "https://university-tw.ldkrsi.men/uac/113\n",
      "https://university-tw.ldkrsi.men/uac/114\n"
     ]
    },
    {
     "name": "stderr",
     "output_type": "stream",
     "text": [
      "2020-06-04 17:14:04 [scrapy.core.engine] DEBUG: Crawled (200) <GET https://university-tw.ldkrsi.men/uac/099> (referer: None)\n",
      "2020-06-04 17:14:04 [scrapy.core.engine] DEBUG: Crawled (200) <GET https://university-tw.ldkrsi.men/uac/101> (referer: None)\n",
      "2020-06-04 17:14:04 [scrapy.downloadermiddlewares.redirect] DEBUG: Redirecting (301) to <GET https://university-tw.ldkrsi.men/uac/> from <GET https://university-tw.ldkrsi.men/uac/102>\n",
      "2020-06-04 17:14:04 [scrapy.downloadermiddlewares.redirect] DEBUG: Redirecting (301) to <GET https://university-tw.ldkrsi.men/uac/> from <GET https://university-tw.ldkrsi.men/uac/103>\n",
      "2020-06-04 17:14:04 [scrapy.core.engine] DEBUG: Crawled (200) <GET https://university-tw.ldkrsi.men/uac/100> (referer: None)\n",
      "2020-06-04 17:14:04 [scrapy.downloadermiddlewares.redirect] DEBUG: Redirecting (301) to <GET https://university-tw.ldkrsi.men/uac/> from <GET https://university-tw.ldkrsi.men/uac/104>\n"
     ]
    },
    {
     "name": "stdout",
     "output_type": "stream",
     "text": [
      "https://university-tw.ldkrsi.men/uac/115\n",
      "https://university-tw.ldkrsi.men/uac/116\n",
      "https://university-tw.ldkrsi.men/uac/117\n",
      "https://university-tw.ldkrsi.men/uac/118\n",
      "https://university-tw.ldkrsi.men/uac/119\n",
      "https://university-tw.ldkrsi.men/uac/120\n"
     ]
    },
    {
     "name": "stderr",
     "output_type": "stream",
     "text": [
      "2020-06-04 17:14:04 [scrapy.downloadermiddlewares.redirect] DEBUG: Redirecting (301) to <GET https://university-tw.ldkrsi.men/uac/> from <GET https://university-tw.ldkrsi.men/uac/105>\n",
      "2020-06-04 17:14:04 [scrapy.downloadermiddlewares.redirect] DEBUG: Redirecting (301) to <GET https://university-tw.ldkrsi.men/uac/> from <GET https://university-tw.ldkrsi.men/uac/106>\n",
      "2020-06-04 17:14:04 [scrapy.downloadermiddlewares.redirect] DEBUG: Redirecting (301) to <GET https://university-tw.ldkrsi.men/uac/> from <GET https://university-tw.ldkrsi.men/uac/107>\n",
      "2020-06-04 17:14:04 [scrapy.core.engine] DEBUG: Crawled (200) <GET https://university-tw.ldkrsi.men/uac/108> (referer: None)\n",
      "2020-06-04 17:14:04 [scrapy.core.engine] DEBUG: Crawled (200) <GET https://university-tw.ldkrsi.men/uac/109> (referer: None)\n"
     ]
    },
    {
     "name": "stdout",
     "output_type": "stream",
     "text": [
      "https://university-tw.ldkrsi.men/uac/121\n",
      "https://university-tw.ldkrsi.men/uac/122\n",
      "https://university-tw.ldkrsi.men/uac/123\n",
      "https://university-tw.ldkrsi.men/uac/124\n",
      "https://university-tw.ldkrsi.men/uac/125\n"
     ]
    },
    {
     "name": "stderr",
     "output_type": "stream",
     "text": [
      "2020-06-04 17:14:04 [scrapy.downloadermiddlewares.redirect] DEBUG: Redirecting (301) to <GET https://university-tw.ldkrsi.men/uac/> from <GET https://university-tw.ldkrsi.men/uac/111>\n",
      "2020-06-04 17:14:04 [scrapy.downloadermiddlewares.redirect] DEBUG: Redirecting (301) to <GET https://university-tw.ldkrsi.men/uac/> from <GET https://university-tw.ldkrsi.men/uac/110>\n",
      "2020-06-04 17:14:04 [scrapy.core.engine] DEBUG: Crawled (200) <GET https://university-tw.ldkrsi.men/uac/112> (referer: None)\n",
      "2020-06-04 17:14:05 [scrapy.downloadermiddlewares.redirect] DEBUG: Redirecting (301) to <GET https://university-tw.ldkrsi.men/uac/> from <GET https://university-tw.ldkrsi.men/uac/113>\n",
      "2020-06-04 17:14:05 [scrapy.downloadermiddlewares.redirect] DEBUG: Redirecting (301) to <GET https://university-tw.ldkrsi.men/uac/> from <GET https://university-tw.ldkrsi.men/uac/114>\n",
      "2020-06-04 17:14:05 [scrapy.downloadermiddlewares.redirect] DEBUG: Redirecting (301) to <GET https://university-tw.ldkrsi.men/uac/> from <GET https://university-tw.ldkrsi.men/uac/115>\n",
      "2020-06-04 17:14:05 [scrapy.downloadermiddlewares.redirect] DEBUG: Redirecting (301) to <GET https://university-tw.ldkrsi.men/uac/> from <GET https://university-tw.ldkrsi.men/uac/117>\n",
      "2020-06-04 17:14:05 [scrapy.downloadermiddlewares.redirect] DEBUG: Redirecting (301) to <GET https://university-tw.ldkrsi.men/uac/> from <GET https://university-tw.ldkrsi.men/uac/116>\n"
     ]
    },
    {
     "name": "stdout",
     "output_type": "stream",
     "text": [
      "https://university-tw.ldkrsi.men/uac/126\n",
      "https://university-tw.ldkrsi.men/uac/127\n",
      "https://university-tw.ldkrsi.men/uac/128\n",
      "https://university-tw.ldkrsi.men/uac/129\n",
      "https://university-tw.ldkrsi.men/uac/130\n",
      "https://university-tw.ldkrsi.men/uac/131\n",
      "https://university-tw.ldkrsi.men/uac/132\n",
      "https://university-tw.ldkrsi.men/uac/133\n"
     ]
    },
    {
     "name": "stderr",
     "output_type": "stream",
     "text": [
      "2020-06-04 17:14:05 [scrapy.downloadermiddlewares.redirect] DEBUG: Redirecting (301) to <GET https://university-tw.ldkrsi.men/uac/> from <GET https://university-tw.ldkrsi.men/uac/118>\n",
      "2020-06-04 17:14:05 [scrapy.downloadermiddlewares.redirect] DEBUG: Redirecting (301) to <GET https://university-tw.ldkrsi.men/uac/> from <GET https://university-tw.ldkrsi.men/uac/119>\n",
      "2020-06-04 17:14:05 [scrapy.downloadermiddlewares.redirect] DEBUG: Redirecting (301) to <GET https://university-tw.ldkrsi.men/uac/> from <GET https://university-tw.ldkrsi.men/uac/120>\n",
      "2020-06-04 17:14:05 [scrapy.downloadermiddlewares.redirect] DEBUG: Redirecting (301) to <GET https://university-tw.ldkrsi.men/uac/> from <GET https://university-tw.ldkrsi.men/uac/121>\n",
      "2020-06-04 17:14:05 [scrapy.downloadermiddlewares.redirect] DEBUG: Redirecting (301) to <GET https://university-tw.ldkrsi.men/uac/> from <GET https://university-tw.ldkrsi.men/uac/123>\n"
     ]
    },
    {
     "name": "stdout",
     "output_type": "stream",
     "text": [
      "https://university-tw.ldkrsi.men/uac/134\n",
      "https://university-tw.ldkrsi.men/uac/135\n",
      "https://university-tw.ldkrsi.men/uac/136\n",
      "https://university-tw.ldkrsi.men/uac/137\n"
     ]
    },
    {
     "name": "stderr",
     "output_type": "stream",
     "text": [
      "2020-06-04 17:14:05 [scrapy.downloadermiddlewares.redirect] DEBUG: Redirecting (301) to <GET https://university-tw.ldkrsi.men/uac/> from <GET https://university-tw.ldkrsi.men/uac/122>\n",
      "2020-06-04 17:14:05 [scrapy.downloadermiddlewares.redirect] DEBUG: Redirecting (301) to <GET https://university-tw.ldkrsi.men/uac/> from <GET https://university-tw.ldkrsi.men/uac/125>\n",
      "2020-06-04 17:14:05 [scrapy.downloadermiddlewares.redirect] DEBUG: Redirecting (301) to <GET https://university-tw.ldkrsi.men/uac/> from <GET https://university-tw.ldkrsi.men/uac/124>\n",
      "2020-06-04 17:14:05 [scrapy.downloadermiddlewares.redirect] DEBUG: Redirecting (301) to <GET https://university-tw.ldkrsi.men/uac/> from <GET https://university-tw.ldkrsi.men/uac/126>\n",
      "2020-06-04 17:14:05 [scrapy.downloadermiddlewares.redirect] DEBUG: Redirecting (301) to <GET https://university-tw.ldkrsi.men/uac/> from <GET https://university-tw.ldkrsi.men/uac/127>\n",
      "2020-06-04 17:14:05 [scrapy.downloadermiddlewares.redirect] DEBUG: Redirecting (301) to <GET https://university-tw.ldkrsi.men/uac/> from <GET https://university-tw.ldkrsi.men/uac/128>\n"
     ]
    },
    {
     "name": "stdout",
     "output_type": "stream",
     "text": [
      "https://university-tw.ldkrsi.men/uac/138\n",
      "https://university-tw.ldkrsi.men/uac/139\n",
      "https://university-tw.ldkrsi.men/uac/140\n",
      "https://university-tw.ldkrsi.men/uac/141\n",
      "https://university-tw.ldkrsi.men/uac/142\n",
      "https://university-tw.ldkrsi.men/uac/143\n",
      "https://university-tw.ldkrsi.men/uac/144\n"
     ]
    },
    {
     "name": "stderr",
     "output_type": "stream",
     "text": [
      "2020-06-04 17:14:05 [scrapy.downloadermiddlewares.redirect] DEBUG: Redirecting (301) to <GET https://university-tw.ldkrsi.men/uac/> from <GET https://university-tw.ldkrsi.men/uac/129>\n",
      "2020-06-04 17:14:05 [scrapy.downloadermiddlewares.redirect] DEBUG: Redirecting (301) to <GET https://university-tw.ldkrsi.men/uac/> from <GET https://university-tw.ldkrsi.men/uac/131>\n",
      "2020-06-04 17:14:05 [scrapy.downloadermiddlewares.redirect] DEBUG: Redirecting (301) to <GET https://university-tw.ldkrsi.men/uac/> from <GET https://university-tw.ldkrsi.men/uac/133>\n",
      "2020-06-04 17:14:05 [scrapy.core.engine] DEBUG: Crawled (200) <GET https://university-tw.ldkrsi.men/uac/130> (referer: None)\n",
      "2020-06-04 17:14:05 [scrapy.core.engine] DEBUG: Crawled (200) <GET https://university-tw.ldkrsi.men/uac/132> (referer: None)\n"
     ]
    },
    {
     "name": "stdout",
     "output_type": "stream",
     "text": [
      "https://university-tw.ldkrsi.men/uac/145\n",
      "https://university-tw.ldkrsi.men/uac/146\n",
      "https://university-tw.ldkrsi.men/uac/147\n",
      "https://university-tw.ldkrsi.men/uac/148\n",
      "https://university-tw.ldkrsi.men/uac/149\n"
     ]
    },
    {
     "name": "stderr",
     "output_type": "stream",
     "text": [
      "2020-06-04 17:14:05 [scrapy.core.engine] DEBUG: Crawled (200) <GET https://university-tw.ldkrsi.men/uac/134> (referer: None)\n",
      "2020-06-04 17:14:06 [scrapy.downloadermiddlewares.redirect] DEBUG: Redirecting (301) to <GET https://university-tw.ldkrsi.men/uac/> from <GET https://university-tw.ldkrsi.men/uac/136>\n",
      "2020-06-04 17:14:06 [scrapy.downloadermiddlewares.redirect] DEBUG: Redirecting (301) to <GET https://university-tw.ldkrsi.men/uac/> from <GET https://university-tw.ldkrsi.men/uac/137>\n",
      "2020-06-04 17:14:06 [scrapy.downloadermiddlewares.redirect] DEBUG: Redirecting (301) to <GET https://university-tw.ldkrsi.men/uac/> from <GET https://university-tw.ldkrsi.men/uac/135>\n",
      "2020-06-04 17:14:06 [scrapy.downloadermiddlewares.redirect] DEBUG: Redirecting (301) to <GET https://university-tw.ldkrsi.men/uac/> from <GET https://university-tw.ldkrsi.men/uac/139>\n",
      "2020-06-04 17:14:06 [scrapy.downloadermiddlewares.redirect] DEBUG: Redirecting (301) to <GET https://university-tw.ldkrsi.men/uac/> from <GET https://university-tw.ldkrsi.men/uac/138>\n"
     ]
    },
    {
     "name": "stdout",
     "output_type": "stream",
     "text": [
      "https://university-tw.ldkrsi.men/uac/150\n",
      "https://university-tw.ldkrsi.men/uac/151\n",
      "https://university-tw.ldkrsi.men/uac/152\n",
      "https://university-tw.ldkrsi.men/uac/153\n"
     ]
    },
    {
     "name": "stderr",
     "output_type": "stream",
     "text": [
      "2020-06-04 17:14:06 [scrapy.downloadermiddlewares.redirect] DEBUG: Redirecting (301) to <GET https://university-tw.ldkrsi.men/uac/> from <GET https://university-tw.ldkrsi.men/uac/141>\n",
      "2020-06-04 17:14:06 [scrapy.downloadermiddlewares.redirect] DEBUG: Redirecting (301) to <GET https://university-tw.ldkrsi.men/uac/> from <GET https://university-tw.ldkrsi.men/uac/140>\n",
      "2020-06-04 17:14:06 [scrapy.downloadermiddlewares.redirect] DEBUG: Redirecting (301) to <GET https://university-tw.ldkrsi.men/uac/> from <GET https://university-tw.ldkrsi.men/uac/142>\n",
      "2020-06-04 17:14:06 [scrapy.downloadermiddlewares.redirect] DEBUG: Redirecting (301) to <GET https://university-tw.ldkrsi.men/uac/> from <GET https://university-tw.ldkrsi.men/uac/143>\n",
      "2020-06-04 17:14:06 [scrapy.downloadermiddlewares.redirect] DEBUG: Redirecting (301) to <GET https://university-tw.ldkrsi.men/uac/> from <GET https://university-tw.ldkrsi.men/uac/145>\n",
      "2020-06-04 17:14:06 [scrapy.downloadermiddlewares.redirect] DEBUG: Redirecting (301) to <GET https://university-tw.ldkrsi.men/uac/> from <GET https://university-tw.ldkrsi.men/uac/144>\n",
      "2020-06-04 17:14:06 [scrapy.downloadermiddlewares.redirect] DEBUG: Redirecting (301) to <GET https://university-tw.ldkrsi.men/uac/> from <GET https://university-tw.ldkrsi.men/uac/146>\n",
      "2020-06-04 17:14:06 [scrapy.downloadermiddlewares.redirect] DEBUG: Redirecting (301) to <GET https://university-tw.ldkrsi.men/uac/> from <GET https://university-tw.ldkrsi.men/uac/149>\n",
      "2020-06-04 17:14:06 [scrapy.downloadermiddlewares.redirect] DEBUG: Redirecting (301) to <GET https://university-tw.ldkrsi.men/uac/> from <GET https://university-tw.ldkrsi.men/uac/147>\n",
      "2020-06-04 17:14:06 [scrapy.downloadermiddlewares.redirect] DEBUG: Redirecting (301) to <GET https://university-tw.ldkrsi.men/uac/> from <GET https://university-tw.ldkrsi.men/uac/148>\n",
      "2020-06-04 17:14:06 [scrapy.core.engine] DEBUG: Crawled (200) <GET https://university-tw.ldkrsi.men/uac/152> (referer: None)\n",
      "2020-06-04 17:14:06 [scrapy.core.engine] DEBUG: Crawled (200) <GET https://university-tw.ldkrsi.men/uac/151> (referer: None)\n",
      "2020-06-04 17:14:06 [scrapy.core.engine] DEBUG: Crawled (200) <GET https://university-tw.ldkrsi.men/uac/150> (referer: None)\n",
      "2020-06-04 17:14:06 [scrapy.core.engine] DEBUG: Crawled (200) <GET https://university-tw.ldkrsi.men/uac/153> (referer: None)\n",
      "2020-06-04 17:14:06 [scrapy.core.engine] INFO: Closing spider (finished)\n",
      "2020-06-04 17:14:06 [scrapy.statscollectors] INFO: Dumping Scrapy stats:\n",
      "{'downloader/request_bytes': 44127,\n",
      " 'downloader/request_count': 154,\n",
      " 'downloader/request_method_count/GET': 154,\n",
      " 'downloader/response_bytes': 513719,\n",
      " 'downloader/response_count': 154,\n",
      " 'downloader/response_status_count/200': 64,\n",
      " 'downloader/response_status_count/301': 90,\n",
      " 'dupefilter/filtered': 89,\n",
      " 'elapsed_time_seconds': 6.503782,\n",
      " 'finish_reason': 'finished',\n",
      " 'finish_time': datetime.datetime(2020, 6, 4, 9, 14, 6, 785218),\n",
      " 'log_count/DEBUG': 155,\n",
      " 'log_count/INFO': 10,\n",
      " 'memusage/max': 125161472,\n",
      " 'memusage/startup': 125161472,\n",
      " 'response_received_count': 64,\n",
      " 'scheduler/dequeued': 154,\n",
      " 'scheduler/dequeued/memory': 154,\n",
      " 'scheduler/enqueued': 154,\n",
      " 'scheduler/enqueued/memory': 154,\n",
      " 'start_time': datetime.datetime(2020, 6, 4, 9, 14, 0, 281436)}\n",
      "2020-06-04 17:14:06 [scrapy.core.engine] INFO: Spider closed (finished)\n"
     ]
    }
   ],
   "source": [
    "process = CrawlerProcess()\n",
    "process.crawl(test1)\n",
    "process.start()"
   ]
  },
  {
   "cell_type": "code",
   "execution_count": 4,
   "metadata": {},
   "outputs": [],
   "source": [
    "df = pd.read_csv('指考.csv')"
   ]
  },
  {
   "cell_type": "code",
   "execution_count": 5,
   "metadata": {},
   "outputs": [
    {
     "data": {
      "text/html": [
       "<div>\n",
       "<style scoped>\n",
       "    .dataframe tbody tr th:only-of-type {\n",
       "        vertical-align: middle;\n",
       "    }\n",
       "\n",
       "    .dataframe tbody tr th {\n",
       "        vertical-align: top;\n",
       "    }\n",
       "\n",
       "    .dataframe thead th {\n",
       "        text-align: right;\n",
       "    }\n",
       "</style>\n",
       "<table border=\"1\" class=\"dataframe\">\n",
       "  <thead>\n",
       "    <tr style=\"text-align: right;\">\n",
       "      <th></th>\n",
       "      <th>代碼</th>\n",
       "      <th>學系</th>\n",
       "      <th>國</th>\n",
       "      <th>英</th>\n",
       "      <th>數甲</th>\n",
       "      <th>數乙</th>\n",
       "      <th>物</th>\n",
       "      <th>化</th>\n",
       "      <th>生</th>\n",
       "      <th>歷</th>\n",
       "      <th>地</th>\n",
       "      <th>公</th>\n",
       "    </tr>\n",
       "  </thead>\n",
       "  <tbody>\n",
       "    <tr>\n",
       "      <td>0</td>\n",
       "      <td>501</td>\n",
       "      <td>中國文學系</td>\n",
       "      <td>x2.00</td>\n",
       "      <td>x1.00</td>\n",
       "      <td>--</td>\n",
       "      <td>--</td>\n",
       "      <td>--</td>\n",
       "      <td>--</td>\n",
       "      <td>--</td>\n",
       "      <td>x1.00</td>\n",
       "      <td>--</td>\n",
       "      <td>--</td>\n",
       "    </tr>\n",
       "    <tr>\n",
       "      <td>1</td>\n",
       "      <td>502</td>\n",
       "      <td>歷史學系</td>\n",
       "      <td>x2.00</td>\n",
       "      <td>x1.50</td>\n",
       "      <td>--</td>\n",
       "      <td>--</td>\n",
       "      <td>--</td>\n",
       "      <td>--</td>\n",
       "      <td>--</td>\n",
       "      <td>x2.00</td>\n",
       "      <td>--</td>\n",
       "      <td>--</td>\n",
       "    </tr>\n",
       "    <tr>\n",
       "      <td>2</td>\n",
       "      <td>503</td>\n",
       "      <td>哲學系</td>\n",
       "      <td>x2.00</td>\n",
       "      <td>x2.00</td>\n",
       "      <td>--</td>\n",
       "      <td>x2.00</td>\n",
       "      <td>--</td>\n",
       "      <td>--</td>\n",
       "      <td>--</td>\n",
       "      <td>--</td>\n",
       "      <td>--</td>\n",
       "      <td>x1.00</td>\n",
       "    </tr>\n",
       "    <tr>\n",
       "      <td>3</td>\n",
       "      <td>504</td>\n",
       "      <td>政治學系</td>\n",
       "      <td>x1.50</td>\n",
       "      <td>x1.50</td>\n",
       "      <td>--</td>\n",
       "      <td>x1.00</td>\n",
       "      <td>--</td>\n",
       "      <td>--</td>\n",
       "      <td>--</td>\n",
       "      <td>--</td>\n",
       "      <td>--</td>\n",
       "      <td>x1.50</td>\n",
       "    </tr>\n",
       "    <tr>\n",
       "      <td>4</td>\n",
       "      <td>505</td>\n",
       "      <td>社會學系</td>\n",
       "      <td>x1.50</td>\n",
       "      <td>x1.50</td>\n",
       "      <td>--</td>\n",
       "      <td>x1.00</td>\n",
       "      <td>--</td>\n",
       "      <td>--</td>\n",
       "      <td>--</td>\n",
       "      <td>--</td>\n",
       "      <td>--</td>\n",
       "      <td>x1.50</td>\n",
       "    </tr>\n",
       "    <tr>\n",
       "      <td>...</td>\n",
       "      <td>...</td>\n",
       "      <td>...</td>\n",
       "      <td>...</td>\n",
       "      <td>...</td>\n",
       "      <td>...</td>\n",
       "      <td>...</td>\n",
       "      <td>...</td>\n",
       "      <td>...</td>\n",
       "      <td>...</td>\n",
       "      <td>...</td>\n",
       "      <td>...</td>\n",
       "      <td>...</td>\n",
       "    </tr>\n",
       "    <tr>\n",
       "      <td>1807</td>\n",
       "      <td>15313</td>\n",
       "      <td>工業工程與管理學系</td>\n",
       "      <td>x2.00</td>\n",
       "      <td>x1.00</td>\n",
       "      <td>--</td>\n",
       "      <td>x1.00</td>\n",
       "      <td>--</td>\n",
       "      <td>--</td>\n",
       "      <td>--</td>\n",
       "      <td>--</td>\n",
       "      <td>--</td>\n",
       "      <td>--</td>\n",
       "    </tr>\n",
       "    <tr>\n",
       "      <td>1808</td>\n",
       "      <td>15322</td>\n",
       "      <td>都市計畫與景觀學系</td>\n",
       "      <td>x2.00</td>\n",
       "      <td>--</td>\n",
       "      <td>--</td>\n",
       "      <td>x1.00</td>\n",
       "      <td>--</td>\n",
       "      <td>--</td>\n",
       "      <td>--</td>\n",
       "      <td>--</td>\n",
       "      <td>x1.50</td>\n",
       "      <td>--</td>\n",
       "    </tr>\n",
       "    <tr>\n",
       "      <td>1809</td>\n",
       "      <td>15323</td>\n",
       "      <td>社會工作學系</td>\n",
       "      <td>x2.00</td>\n",
       "      <td>x1.50</td>\n",
       "      <td>--</td>\n",
       "      <td>x1.00</td>\n",
       "      <td>--</td>\n",
       "      <td>--</td>\n",
       "      <td>--</td>\n",
       "      <td>--</td>\n",
       "      <td>--</td>\n",
       "      <td>--</td>\n",
       "    </tr>\n",
       "    <tr>\n",
       "      <td>1810</td>\n",
       "      <td>15324</td>\n",
       "      <td>長期照護學系</td>\n",
       "      <td>x2.00</td>\n",
       "      <td>x1.00</td>\n",
       "      <td>--</td>\n",
       "      <td>--</td>\n",
       "      <td>--</td>\n",
       "      <td>--</td>\n",
       "      <td>--</td>\n",
       "      <td>x2.00</td>\n",
       "      <td>--</td>\n",
       "      <td>--</td>\n",
       "    </tr>\n",
       "    <tr>\n",
       "      <td>1811</td>\n",
       "      <td>15325</td>\n",
       "      <td>護理學系</td>\n",
       "      <td>x2.00</td>\n",
       "      <td>x1.00</td>\n",
       "      <td>x1.00</td>\n",
       "      <td>--</td>\n",
       "      <td>--</td>\n",
       "      <td>--</td>\n",
       "      <td>x1.50</td>\n",
       "      <td>--</td>\n",
       "      <td>--</td>\n",
       "      <td>--</td>\n",
       "    </tr>\n",
       "  </tbody>\n",
       "</table>\n",
       "<p>1812 rows × 12 columns</p>\n",
       "</div>"
      ],
      "text/plain": [
       "         代碼         學系      國      英     數甲     數乙   物   化      生      歷  \\\n",
       "0       501      中國文學系  x2.00  x1.00     --     --  --  --     --  x1.00   \n",
       "1       502       歷史學系  x2.00  x1.50     --     --  --  --     --  x2.00   \n",
       "2       503        哲學系  x2.00  x2.00     --  x2.00  --  --     --     --   \n",
       "3       504       政治學系  x1.50  x1.50     --  x1.00  --  --     --     --   \n",
       "4       505       社會學系  x1.50  x1.50     --  x1.00  --  --     --     --   \n",
       "...     ...        ...    ...    ...    ...    ...  ..  ..    ...    ...   \n",
       "1807  15313  工業工程與管理學系  x2.00  x1.00     --  x1.00  --  --     --     --   \n",
       "1808  15322  都市計畫與景觀學系  x2.00     --     --  x1.00  --  --     --     --   \n",
       "1809  15323     社會工作學系  x2.00  x1.50     --  x1.00  --  --     --     --   \n",
       "1810  15324     長期照護學系  x2.00  x1.00     --     --  --  --     --  x2.00   \n",
       "1811  15325       護理學系  x2.00  x1.00  x1.00     --  --  --  x1.50     --   \n",
       "\n",
       "          地      公  \n",
       "0        --     --  \n",
       "1        --     --  \n",
       "2        --  x1.00  \n",
       "3        --  x1.50  \n",
       "4        --  x1.50  \n",
       "...     ...    ...  \n",
       "1807     --     --  \n",
       "1808  x1.50     --  \n",
       "1809     --     --  \n",
       "1810     --     --  \n",
       "1811     --     --  \n",
       "\n",
       "[1812 rows x 12 columns]"
      ]
     },
     "execution_count": 5,
     "metadata": {},
     "output_type": "execute_result"
    }
   ],
   "source": [
    "df "
   ]
  },
  {
   "cell_type": "markdown",
   "metadata": {},
   "source": [
    "# "
   ]
  }
 ],
 "metadata": {
  "kernelspec": {
   "display_name": "Python 3",
   "language": "python",
   "name": "python3"
  },
  "language_info": {
   "codemirror_mode": {
    "name": "ipython",
    "version": 3
   },
   "file_extension": ".py",
   "mimetype": "text/x-python",
   "name": "python",
   "nbconvert_exporter": "python",
   "pygments_lexer": "ipython3",
   "version": "3.7.4"
  }
 },
 "nbformat": 4,
 "nbformat_minor": 2
}
